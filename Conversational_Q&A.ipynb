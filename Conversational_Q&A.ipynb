{
 "cells": [
  {
   "cell_type": "markdown",
   "metadata": {},
   "source": [
    "# Conversational Q&A chatbot \n",
    "\n",
    "In many Q&A chatbot applications , we want to allow users to have a back and forth conversation , meaning the application needs some sort of \"memory\" of past questions and answers , and some logic for incorporating these into the current thinking. \n",
    "\n",
    "In this guide we focus on addng logic for incorporating historical messages. Further details on chat history management is covered in previous videos \n",
    "\n",
    "We will cover two approaches : \n",
    "* Chains , in which we always execute a retrieval step \n",
    "* Agents , in which we give an LLM discretion over whether and how to execute the retrieval step(or multiple steps)"
   ]
  },
  {
   "cell_type": "code",
   "execution_count": 1,
   "metadata": {},
   "outputs": [
    {
     "data": {
      "text/plain": [
       "ChatGroq(client=<groq.resources.chat.completions.Completions object at 0x00000247E0D62DA0>, async_client=<groq.resources.chat.completions.AsyncCompletions object at 0x00000247E0D62110>, model_name='Llama3-8b-8192', model_kwargs={}, groq_api_key=SecretStr('**********'))"
      ]
     },
     "execution_count": 1,
     "metadata": {},
     "output_type": "execute_result"
    }
   ],
   "source": [
    "import os \n",
    "from dotenv import load_dotenv\n",
    "load_dotenv()\n",
    "from langchain_groq import ChatGroq\n",
    "\n",
    "groq_api_key = os.getenv('GROQ_API_KEY')\n",
    "\n",
    "llm = ChatGroq(groq_api_key= groq_api_key , model_name = \"Llama3-8b-8192\")\n",
    "\n",
    "llm"
   ]
  },
  {
   "cell_type": "code",
   "execution_count": 2,
   "metadata": {},
   "outputs": [],
   "source": [
    "!pip install --upgrade --quiet  langchain sentence_transformers"
   ]
  },
  {
   "cell_type": "code",
   "execution_count": 3,
   "metadata": {},
   "outputs": [
    {
     "name": "stderr",
     "output_type": "stream",
     "text": [
      "f:\\MachineLearning\\Langchain\\venv\\lib\\site-packages\\tqdm\\auto.py:21: TqdmWarning: IProgress not found. Please update jupyter and ipywidgets. See https://ipywidgets.readthedocs.io/en/stable/user_install.html\n",
      "  from .autonotebook import tqdm as notebook_tqdm\n"
     ]
    },
    {
     "name": "stdout",
     "output_type": "stream",
     "text": [
      "WARNING:tensorflow:From f:\\MachineLearning\\Langchain\\venv\\lib\\site-packages\\tf_keras\\src\\losses.py:2976: The name tf.losses.sparse_softmax_cross_entropy is deprecated. Please use tf.compat.v1.losses.sparse_softmax_cross_entropy instead.\n",
      "\n"
     ]
    },
    {
     "name": "stderr",
     "output_type": "stream",
     "text": [
      "f:\\MachineLearning\\Langchain\\venv\\lib\\site-packages\\huggingface_hub\\file_download.py:139: UserWarning: `huggingface_hub` cache-system uses symlinks by default to efficiently store duplicated files but your machine does not support them in C:\\Users\\KARAN\\.cache\\huggingface\\hub\\models--sentence-transformers--all-mpnet-base-v2. Caching files will still work but in a degraded version that might require more space on your disk. This warning can be disabled by setting the `HF_HUB_DISABLE_SYMLINKS_WARNING` environment variable. For more details, see https://huggingface.co/docs/huggingface_hub/how-to-cache#limitations.\n",
      "To support symlinks on Windows, you either need to activate Developer Mode or to run Python as an administrator. In order to activate developer mode, see this article: https://docs.microsoft.com/en-us/windows/apps/get-started/enable-your-device-for-development\n",
      "  warnings.warn(message)\n"
     ]
    }
   ],
   "source": [
    "os.environ['HF_TOKEN'] = os.getenv('HF_TOKEN')\n",
    "from langchain_huggingface.embeddings import HuggingFaceEmbeddings\n",
    "embeddings = HuggingFaceEmbeddings(model_name=\"sentence-transformers/all-mpnet-base-v2\")"
   ]
  },
  {
   "cell_type": "code",
   "execution_count": 17,
   "metadata": {},
   "outputs": [],
   "source": [
    "from langchain_chroma import Chroma\n",
    "from langchain_community.document_loaders import WebBaseLoader\n",
    "from langchain_core.prompts import ChatPromptTemplate\n",
    "from langchain_openai import OpenAIEmbeddings\n",
    "from langchain_text_splitters import RecursiveCharacterTextSplitter\n",
    "\n"
   ]
  },
  {
   "cell_type": "code",
   "execution_count": 20,
   "metadata": {},
   "outputs": [],
   "source": [
    "from langchain.chains import create_retrieval_chain\n",
    "from langchain.chains.combine_documents import create_stuff_documents_chain\n"
   ]
  },
  {
   "cell_type": "code",
   "execution_count": 12,
   "metadata": {},
   "outputs": [],
   "source": [
    "# 1. Load , chun and index the contents of the blog to create a retriever \n",
    "import bs4\n",
    "\n",
    "loader = WebBaseLoader(\n",
    "    web_path=(\"https://lilianweng.github.io/posts/2021-07-11-diffusion-models/\",),\n",
    "    bs_kwargs=dict(\n",
    "        parse_only = bs4.SoupStrainer(\n",
    "            class_ = (\"post-content\" , \"post-title\" , \"post-header\")\n",
    "        )\n",
    "    ),\n",
    ")\n",
    "\n",
    "docs = loader.load()"
   ]
  },
  {
   "cell_type": "code",
   "execution_count": 13,
   "metadata": {},
   "outputs": [
    {
     "data": {
      "text/plain": [
       "[Document(metadata={'source': 'https://lilianweng.github.io/posts/2021-07-11-diffusion-models/'}, page_content='\\n\\n      What are Diffusion Models?\\n    \\nDate: July 11, 2021  |  Estimated Reading Time: 32 min  |  Author: Lilian Weng\\n\\n\\n\\n[Updated on 2021-09-19: Highly recommend this blog post on score-based generative modeling by Yang Song (author of several key papers in the references)].\\n[Updated on 2022-08-27: Added classifier-free guidance, GLIDE, unCLIP and Imagen.\\n[Updated on 2022-08-31: Added latent diffusion model.\\n[Updated on 2024-04-13: Added progressive distillation, consistency models, and the Model Architecture section.\\nSo far, I’ve written about three types of generative models, GAN, VAE, and Flow-based models. They have shown great success in generating high-quality samples, but each has some limitations of its own. GAN models are known for potentially unstable training and less diversity in generation due to their adversarial training nature. VAE relies on a surrogate loss. Flow models have to use specialized architectures to construct reversible transform.\\nDiffusion models are inspired by non-equilibrium thermodynamics. They define a Markov chain of diffusion steps to slowly add random noise to data and then learn to reverse the diffusion process to construct desired data samples from the noise. Unlike VAE or flow models, diffusion models are learned with a fixed procedure and the latent variable has high dimensionality (same as the original data).\\n\\nFig. 1. Overview of different types of generative models.\\nWhat are Diffusion Models?#\\nSeveral diffusion-based generative models have been proposed with similar ideas underneath, including diffusion probabilistic models (Sohl-Dickstein et al., 2015), noise-conditioned score network (NCSN; Yang & Ermon, 2019), and denoising diffusion probabilistic models (DDPM; Ho et al. 2020).\\nForward diffusion process#\\nGiven a data point sampled from a real data distribution $\\\\mathbf{x}_0 \\\\sim q(\\\\mathbf{x})$, let us define a forward diffusion process in which we add small amount of Gaussian noise to the sample in $T$ steps, producing a sequence of noisy samples $\\\\mathbf{x}_1, \\\\dots, \\\\mathbf{x}_T$. The step sizes are controlled by a variance schedule $\\\\{\\\\beta_t \\\\in (0, 1)\\\\}_{t=1}^T$.\\n\\n$$\\nq(\\\\mathbf{x}_t \\\\vert \\\\mathbf{x}_{t-1}) = \\\\mathcal{N}(\\\\mathbf{x}_t; \\\\sqrt{1 - \\\\beta_t} \\\\mathbf{x}_{t-1}, \\\\beta_t\\\\mathbf{I}) \\\\quad\\nq(\\\\mathbf{x}_{1:T} \\\\vert \\\\mathbf{x}_0) = \\\\prod^T_{t=1} q(\\\\mathbf{x}_t \\\\vert \\\\mathbf{x}_{t-1})\\n$$\\n\\nThe data sample $\\\\mathbf{x}_0$ gradually loses its distinguishable features as the step $t$ becomes larger. Eventually when $T \\\\to \\\\infty$, $\\\\mathbf{x}_T$ is equivalent to an isotropic Gaussian distribution.\\n\\nFig. 2. The Markov chain of forward (reverse) diffusion process of generating a sample by slowly adding (removing) noise. (Image source: Ho et al. 2020 with a few additional annotations)\\nA nice property of the above process is that we can sample $\\\\mathbf{x}_t$ at any arbitrary time step $t$ in a closed form using reparameterization trick. Let $\\\\alpha_t = 1 - \\\\beta_t$ and $\\\\bar{\\\\alpha}_t = \\\\prod_{i=1}^t \\\\alpha_i$:\\n\\n$$\\n\\\\begin{aligned}\\n\\\\mathbf{x}_t \\n&= \\\\sqrt{\\\\alpha_t}\\\\mathbf{x}_{t-1} + \\\\sqrt{1 - \\\\alpha_t}\\\\boldsymbol{\\\\epsilon}_{t-1} & \\\\text{ ;where } \\\\boldsymbol{\\\\epsilon}_{t-1}, \\\\boldsymbol{\\\\epsilon}_{t-2}, \\\\dots \\\\sim \\\\mathcal{N}(\\\\mathbf{0}, \\\\mathbf{I}) \\\\\\\\\\n&= \\\\sqrt{\\\\alpha_t \\\\alpha_{t-1}} \\\\mathbf{x}_{t-2} + \\\\sqrt{1 - \\\\alpha_t \\\\alpha_{t-1}} \\\\bar{\\\\boldsymbol{\\\\epsilon}}_{t-2} & \\\\text{ ;where } \\\\bar{\\\\boldsymbol{\\\\epsilon}}_{t-2} \\\\text{ merges two Gaussians (*).} \\\\\\\\\\n&= \\\\dots \\\\\\\\\\n&= \\\\sqrt{\\\\bar{\\\\alpha}_t}\\\\mathbf{x}_0 + \\\\sqrt{1 - \\\\bar{\\\\alpha}_t}\\\\boldsymbol{\\\\epsilon} \\\\\\\\\\nq(\\\\mathbf{x}_t \\\\vert \\\\mathbf{x}_0) &= \\\\mathcal{N}(\\\\mathbf{x}_t; \\\\sqrt{\\\\bar{\\\\alpha}_t} \\\\mathbf{x}_0, (1 - \\\\bar{\\\\alpha}_t)\\\\mathbf{I})\\n\\\\end{aligned}\\n$$\\n\\n(*) Recall that when we merge two Gaussians  with different variance, $\\\\mathcal{N}(\\\\mathbf{0}, \\\\sigma_1^2\\\\mathbf{I})$ and $\\\\mathcal{N}(\\\\mathbf{0}, \\\\sigma_2^2\\\\mathbf{I})$, the new distribution is $\\\\mathcal{N}(\\\\mathbf{0}, (\\\\sigma_1^2 + \\\\sigma_2^2)\\\\mathbf{I})$. Here the merged standard deviation is $\\\\sqrt{(1 - \\\\alpha_t) + \\\\alpha_t (1-\\\\alpha_{t-1})} = \\\\sqrt{1 - \\\\alpha_t\\\\alpha_{t-1}}$.\\nUsually, we can afford a larger update step when the sample gets noisier, so $\\\\beta_1 < \\\\beta_2 < \\\\dots < \\\\beta_T$ and therefore $\\\\bar{\\\\alpha}_1 > \\\\dots > \\\\bar{\\\\alpha}_T$.\\nConnection with stochastic gradient Langevin dynamics#\\nLangevin dynamics is a concept from physics, developed for statistically modeling molecular systems. Combined with stochastic gradient descent, stochastic gradient Langevin dynamics (Welling & Teh 2011) can produce samples from a probability density $p(\\\\mathbf{x})$ using only the gradients $\\\\nabla_\\\\mathbf{x} \\\\log p(\\\\mathbf{x})$ in a Markov chain of updates:\\n\\n$$\\n\\\\mathbf{x}_t = \\\\mathbf{x}_{t-1} + \\\\frac{\\\\delta}{2} \\\\nabla_\\\\mathbf{x} \\\\log p(\\\\mathbf{x}_{t-1}) + \\\\sqrt{\\\\delta} \\\\boldsymbol{\\\\epsilon}_t\\n,\\\\quad\\\\text{where }\\n\\\\boldsymbol{\\\\epsilon}_t \\\\sim \\\\mathcal{N}(\\\\mathbf{0}, \\\\mathbf{I})\\n$$\\n\\nwhere $\\\\delta$ is the step size. When $T \\\\to \\\\infty, \\\\epsilon \\\\to 0$, $\\\\mathbf{x}_T$ equals to the true probability density $p(\\\\mathbf{x})$.\\nCompared to standard SGD, stochastic gradient Langevin dynamics injects Gaussian noise into the parameter updates to avoid collapses into local minima.\\nReverse diffusion process#\\nIf we can reverse the above process and sample from $q(\\\\mathbf{x}_{t-1} \\\\vert \\\\mathbf{x}_t)$, we will be able to recreate the true sample from a Gaussian noise input, $\\\\mathbf{x}_T \\\\sim \\\\mathcal{N}(\\\\mathbf{0}, \\\\mathbf{I})$. Note that if $\\\\beta_t$ is small enough, $q(\\\\mathbf{x}_{t-1} \\\\vert \\\\mathbf{x}_t)$ will also be Gaussian. Unfortunately, we cannot easily estimate $q(\\\\mathbf{x}_{t-1} \\\\vert \\\\mathbf{x}_t)$ because it needs to use the entire dataset and therefore we need to learn a model $p_\\\\theta$ to approximate these conditional probabilities in order to run the reverse diffusion process.\\n\\n$$\\np_\\\\theta(\\\\mathbf{x}_{0:T}) = p(\\\\mathbf{x}_T) \\\\prod^T_{t=1} p_\\\\theta(\\\\mathbf{x}_{t-1} \\\\vert \\\\mathbf{x}_t) \\\\quad\\np_\\\\theta(\\\\mathbf{x}_{t-1} \\\\vert \\\\mathbf{x}_t) = \\\\mathcal{N}(\\\\mathbf{x}_{t-1}; \\\\boldsymbol{\\\\mu}_\\\\theta(\\\\mathbf{x}_t, t), \\\\boldsymbol{\\\\Sigma}_\\\\theta(\\\\mathbf{x}_t, t))\\n$$\\n\\n\\nFig. 3. An example of training a diffusion model for modeling a 2D swiss roll data. (Image source: Sohl-Dickstein et al., 2015)\\nIt is noteworthy that the reverse conditional probability is tractable when conditioned on $\\\\mathbf{x}_0$:\\n\\n$$\\nq(\\\\mathbf{x}_{t-1} \\\\vert \\\\mathbf{x}_t, \\\\mathbf{x}_0) = \\\\mathcal{N}(\\\\mathbf{x}_{t-1}; \\\\color{blue}{\\\\tilde{\\\\boldsymbol{\\\\mu}}}(\\\\mathbf{x}_t, \\\\mathbf{x}_0), \\\\color{red}{\\\\tilde{\\\\beta}_t} \\\\mathbf{I})\\n$$\\n\\nUsing Bayes’ rule, we have:\\n\\n$$\\n\\\\begin{aligned}\\nq(\\\\mathbf{x}_{t-1} \\\\vert \\\\mathbf{x}_t, \\\\mathbf{x}_0) \\n&= q(\\\\mathbf{x}_t \\\\vert \\\\mathbf{x}_{t-1}, \\\\mathbf{x}_0) \\\\frac{ q(\\\\mathbf{x}_{t-1} \\\\vert \\\\mathbf{x}_0) }{ q(\\\\mathbf{x}_t \\\\vert \\\\mathbf{x}_0) } \\\\\\\\\\n&\\\\propto \\\\exp \\\\Big(-\\\\frac{1}{2} \\\\big(\\\\frac{(\\\\mathbf{x}_t - \\\\sqrt{\\\\alpha_t} \\\\mathbf{x}_{t-1})^2}{\\\\beta_t} + \\\\frac{(\\\\mathbf{x}_{t-1} - \\\\sqrt{\\\\bar{\\\\alpha}_{t-1}} \\\\mathbf{x}_0)^2}{1-\\\\bar{\\\\alpha}_{t-1}} - \\\\frac{(\\\\mathbf{x}_t - \\\\sqrt{\\\\bar{\\\\alpha}_t} \\\\mathbf{x}_0)^2}{1-\\\\bar{\\\\alpha}_t} \\\\big) \\\\Big) \\\\\\\\\\n&= \\\\exp \\\\Big(-\\\\frac{1}{2} \\\\big(\\\\frac{\\\\mathbf{x}_t^2 - 2\\\\sqrt{\\\\alpha_t} \\\\mathbf{x}_t \\\\color{blue}{\\\\mathbf{x}_{t-1}} \\\\color{black}{+ \\\\alpha_t} \\\\color{red}{\\\\mathbf{x}_{t-1}^2} }{\\\\beta_t} + \\\\frac{ \\\\color{red}{\\\\mathbf{x}_{t-1}^2} \\\\color{black}{- 2 \\\\sqrt{\\\\bar{\\\\alpha}_{t-1}} \\\\mathbf{x}_0} \\\\color{blue}{\\\\mathbf{x}_{t-1}} \\\\color{black}{+ \\\\bar{\\\\alpha}_{t-1} \\\\mathbf{x}_0^2}  }{1-\\\\bar{\\\\alpha}_{t-1}} - \\\\frac{(\\\\mathbf{x}_t - \\\\sqrt{\\\\bar{\\\\alpha}_t} \\\\mathbf{x}_0)^2}{1-\\\\bar{\\\\alpha}_t} \\\\big) \\\\Big) \\\\\\\\\\n&= \\\\exp\\\\Big( -\\\\frac{1}{2} \\\\big( \\\\color{red}{(\\\\frac{\\\\alpha_t}{\\\\beta_t} + \\\\frac{1}{1 - \\\\bar{\\\\alpha}_{t-1}})} \\\\mathbf{x}_{t-1}^2 - \\\\color{blue}{(\\\\frac{2\\\\sqrt{\\\\alpha_t}}{\\\\beta_t} \\\\mathbf{x}_t + \\\\frac{2\\\\sqrt{\\\\bar{\\\\alpha}_{t-1}}}{1 - \\\\bar{\\\\alpha}_{t-1}} \\\\mathbf{x}_0)} \\\\mathbf{x}_{t-1} \\\\color{black}{ + C(\\\\mathbf{x}_t, \\\\mathbf{x}_0) \\\\big) \\\\Big)}\\n\\\\end{aligned}\\n$$\\n\\nwhere $C(\\\\mathbf{x}_t, \\\\mathbf{x}_0)$ is some function not involving $\\\\mathbf{x}_{t-1}$ and details are omitted. Following the standard Gaussian density function, the mean and variance can be parameterized as follows (recall that $\\\\alpha_t = 1 - \\\\beta_t$ and $\\\\bar{\\\\alpha}_t = \\\\prod_{i=1}^t \\\\alpha_i$):\\n\\n$$\\n\\\\begin{aligned}\\n\\\\tilde{\\\\beta}_t \\n&= 1/(\\\\frac{\\\\alpha_t}{\\\\beta_t} + \\\\frac{1}{1 - \\\\bar{\\\\alpha}_{t-1}}) \\n= 1/(\\\\frac{\\\\alpha_t - \\\\bar{\\\\alpha}_t + \\\\beta_t}{\\\\beta_t(1 - \\\\bar{\\\\alpha}_{t-1})})\\n= \\\\color{green}{\\\\frac{1 - \\\\bar{\\\\alpha}_{t-1}}{1 - \\\\bar{\\\\alpha}_t} \\\\cdot \\\\beta_t} \\\\\\\\\\n\\\\tilde{\\\\boldsymbol{\\\\mu}}_t (\\\\mathbf{x}_t, \\\\mathbf{x}_0)\\n&= (\\\\frac{\\\\sqrt{\\\\alpha_t}}{\\\\beta_t} \\\\mathbf{x}_t + \\\\frac{\\\\sqrt{\\\\bar{\\\\alpha}_{t-1} }}{1 - \\\\bar{\\\\alpha}_{t-1}} \\\\mathbf{x}_0)/(\\\\frac{\\\\alpha_t}{\\\\beta_t} + \\\\frac{1}{1 - \\\\bar{\\\\alpha}_{t-1}}) \\\\\\\\\\n&= (\\\\frac{\\\\sqrt{\\\\alpha_t}}{\\\\beta_t} \\\\mathbf{x}_t + \\\\frac{\\\\sqrt{\\\\bar{\\\\alpha}_{t-1} }}{1 - \\\\bar{\\\\alpha}_{t-1}} \\\\mathbf{x}_0) \\\\color{green}{\\\\frac{1 - \\\\bar{\\\\alpha}_{t-1}}{1 - \\\\bar{\\\\alpha}_t} \\\\cdot \\\\beta_t} \\\\\\\\\\n&= \\\\frac{\\\\sqrt{\\\\alpha_t}(1 - \\\\bar{\\\\alpha}_{t-1})}{1 - \\\\bar{\\\\alpha}_t} \\\\mathbf{x}_t + \\\\frac{\\\\sqrt{\\\\bar{\\\\alpha}_{t-1}}\\\\beta_t}{1 - \\\\bar{\\\\alpha}_t} \\\\mathbf{x}_0\\\\\\\\\\n\\\\end{aligned}\\n$$\\n\\nThanks to the nice property, we can represent $\\\\mathbf{x}_0 = \\\\frac{1}{\\\\sqrt{\\\\bar{\\\\alpha}_t}}(\\\\mathbf{x}_t - \\\\sqrt{1 - \\\\bar{\\\\alpha}_t}\\\\boldsymbol{\\\\epsilon}_t)$ and plug it into the above equation and obtain:\\n\\n$$\\n\\\\begin{aligned}\\n\\\\tilde{\\\\boldsymbol{\\\\mu}}_t\\n&= \\\\frac{\\\\sqrt{\\\\alpha_t}(1 - \\\\bar{\\\\alpha}_{t-1})}{1 - \\\\bar{\\\\alpha}_t} \\\\mathbf{x}_t + \\\\frac{\\\\sqrt{\\\\bar{\\\\alpha}_{t-1}}\\\\beta_t}{1 - \\\\bar{\\\\alpha}_t} \\\\frac{1}{\\\\sqrt{\\\\bar{\\\\alpha}_t}}(\\\\mathbf{x}_t - \\\\sqrt{1 - \\\\bar{\\\\alpha}_t}\\\\boldsymbol{\\\\epsilon}_t) \\\\\\\\\\n&= \\\\color{cyan}{\\\\frac{1}{\\\\sqrt{\\\\alpha_t}} \\\\Big( \\\\mathbf{x}_t - \\\\frac{1 - \\\\alpha_t}{\\\\sqrt{1 - \\\\bar{\\\\alpha}_t}} \\\\boldsymbol{\\\\epsilon}_t \\\\Big)}\\n\\\\end{aligned}\\n$$\\n\\nAs demonstrated in Fig. 2., such a setup is very similar to VAE and thus we can use the variational lower bound to optimize the negative log-likelihood.\\n\\n$$\\n\\\\begin{aligned}\\n- \\\\log p_\\\\theta(\\\\mathbf{x}_0) \\n&\\\\leq - \\\\log p_\\\\theta(\\\\mathbf{x}_0) + D_\\\\text{KL}(q(\\\\mathbf{x}_{1:T}\\\\vert\\\\mathbf{x}_0) \\\\| p_\\\\theta(\\\\mathbf{x}_{1:T}\\\\vert\\\\mathbf{x}_0) ) & \\\\small{\\\\text{; KL is non-negative}}\\\\\\\\\\n&= - \\\\log p_\\\\theta(\\\\mathbf{x}_0) + \\\\mathbb{E}_{\\\\mathbf{x}_{1:T}\\\\sim q(\\\\mathbf{x}_{1:T} \\\\vert \\\\mathbf{x}_0)} \\\\Big[ \\\\log\\\\frac{q(\\\\mathbf{x}_{1:T}\\\\vert\\\\mathbf{x}_0)}{p_\\\\theta(\\\\mathbf{x}_{0:T}) / p_\\\\theta(\\\\mathbf{x}_0)} \\\\Big] \\\\\\\\\\n&= - \\\\log p_\\\\theta(\\\\mathbf{x}_0) + \\\\mathbb{E}_q \\\\Big[ \\\\log\\\\frac{q(\\\\mathbf{x}_{1:T}\\\\vert\\\\mathbf{x}_0)}{p_\\\\theta(\\\\mathbf{x}_{0:T})} + \\\\log p_\\\\theta(\\\\mathbf{x}_0) \\\\Big] \\\\\\\\\\n&= \\\\mathbb{E}_q \\\\Big[ \\\\log \\\\frac{q(\\\\mathbf{x}_{1:T}\\\\vert\\\\mathbf{x}_0)}{p_\\\\theta(\\\\mathbf{x}_{0:T})} \\\\Big] \\\\\\\\\\n\\\\text{Let }L_\\\\text{VLB} \\n&= \\\\mathbb{E}_{q(\\\\mathbf{x}_{0:T})} \\\\Big[ \\\\log \\\\frac{q(\\\\mathbf{x}_{1:T}\\\\vert\\\\mathbf{x}_0)}{p_\\\\theta(\\\\mathbf{x}_{0:T})} \\\\Big] \\\\geq - \\\\mathbb{E}_{q(\\\\mathbf{x}_0)} \\\\log p_\\\\theta(\\\\mathbf{x}_0)\\n\\\\end{aligned}\\n$$\\n\\nIt is also straightforward to get the same result using Jensen’s inequality. Say we want to minimize the cross entropy as the learning objective,\\n\\n$$\\n\\\\begin{aligned}\\nL_\\\\text{CE}\\n&= - \\\\mathbb{E}_{q(\\\\mathbf{x}_0)} \\\\log p_\\\\theta(\\\\mathbf{x}_0) \\\\\\\\\\n&= - \\\\mathbb{E}_{q(\\\\mathbf{x}_0)} \\\\log \\\\Big( \\\\int p_\\\\theta(\\\\mathbf{x}_{0:T}) d\\\\mathbf{x}_{1:T} \\\\Big) \\\\\\\\\\n&= - \\\\mathbb{E}_{q(\\\\mathbf{x}_0)} \\\\log \\\\Big( \\\\int q(\\\\mathbf{x}_{1:T} \\\\vert \\\\mathbf{x}_0) \\\\frac{p_\\\\theta(\\\\mathbf{x}_{0:T})}{q(\\\\mathbf{x}_{1:T} \\\\vert \\\\mathbf{x}_{0})} d\\\\mathbf{x}_{1:T} \\\\Big) \\\\\\\\\\n&= - \\\\mathbb{E}_{q(\\\\mathbf{x}_0)} \\\\log \\\\Big( \\\\mathbb{E}_{q(\\\\mathbf{x}_{1:T} \\\\vert \\\\mathbf{x}_0)} \\\\frac{p_\\\\theta(\\\\mathbf{x}_{0:T})}{q(\\\\mathbf{x}_{1:T} \\\\vert \\\\mathbf{x}_{0})} \\\\Big) \\\\\\\\\\n&\\\\leq - \\\\mathbb{E}_{q(\\\\mathbf{x}_{0:T})} \\\\log \\\\frac{p_\\\\theta(\\\\mathbf{x}_{0:T})}{q(\\\\mathbf{x}_{1:T} \\\\vert \\\\mathbf{x}_{0})} \\\\\\\\\\n&= \\\\mathbb{E}_{q(\\\\mathbf{x}_{0:T})}\\\\Big[\\\\log \\\\frac{q(\\\\mathbf{x}_{1:T} \\\\vert \\\\mathbf{x}_{0})}{p_\\\\theta(\\\\mathbf{x}_{0:T})} \\\\Big] = L_\\\\text{VLB}\\n\\\\end{aligned}\\n$$\\n\\nTo convert each term in the equation to be analytically computable, the objective can be further rewritten to be a combination of several KL-divergence and entropy terms (See the detailed step-by-step process in Appendix B in Sohl-Dickstein et al., 2015):\\n\\n$$\\n\\\\begin{aligned}\\nL_\\\\text{VLB} \\n&= \\\\mathbb{E}_{q(\\\\mathbf{x}_{0:T})} \\\\Big[ \\\\log\\\\frac{q(\\\\mathbf{x}_{1:T}\\\\vert\\\\mathbf{x}_0)}{p_\\\\theta(\\\\mathbf{x}_{0:T})} \\\\Big] \\\\\\\\\\n&= \\\\mathbb{E}_q \\\\Big[ \\\\log\\\\frac{\\\\prod_{t=1}^T q(\\\\mathbf{x}_t\\\\vert\\\\mathbf{x}_{t-1})}{ p_\\\\theta(\\\\mathbf{x}_T) \\\\prod_{t=1}^T p_\\\\theta(\\\\mathbf{x}_{t-1} \\\\vert\\\\mathbf{x}_t) } \\\\Big] \\\\\\\\\\n&= \\\\mathbb{E}_q \\\\Big[ -\\\\log p_\\\\theta(\\\\mathbf{x}_T) + \\\\sum_{t=1}^T \\\\log \\\\frac{q(\\\\mathbf{x}_t\\\\vert\\\\mathbf{x}_{t-1})}{p_\\\\theta(\\\\mathbf{x}_{t-1} \\\\vert\\\\mathbf{x}_t)} \\\\Big] \\\\\\\\\\n&= \\\\mathbb{E}_q \\\\Big[ -\\\\log p_\\\\theta(\\\\mathbf{x}_T) + \\\\sum_{t=2}^T \\\\log \\\\frac{q(\\\\mathbf{x}_t\\\\vert\\\\mathbf{x}_{t-1})}{p_\\\\theta(\\\\mathbf{x}_{t-1} \\\\vert\\\\mathbf{x}_t)} + \\\\log\\\\frac{q(\\\\mathbf{x}_1 \\\\vert \\\\mathbf{x}_0)}{p_\\\\theta(\\\\mathbf{x}_0 \\\\vert \\\\mathbf{x}_1)} \\\\Big] \\\\\\\\\\n&= \\\\mathbb{E}_q \\\\Big[ -\\\\log p_\\\\theta(\\\\mathbf{x}_T) + \\\\sum_{t=2}^T \\\\log \\\\Big( \\\\frac{q(\\\\mathbf{x}_{t-1} \\\\vert \\\\mathbf{x}_t, \\\\mathbf{x}_0)}{p_\\\\theta(\\\\mathbf{x}_{t-1} \\\\vert\\\\mathbf{x}_t)}\\\\cdot \\\\frac{q(\\\\mathbf{x}_t \\\\vert \\\\mathbf{x}_0)}{q(\\\\mathbf{x}_{t-1}\\\\vert\\\\mathbf{x}_0)} \\\\Big) + \\\\log \\\\frac{q(\\\\mathbf{x}_1 \\\\vert \\\\mathbf{x}_0)}{p_\\\\theta(\\\\mathbf{x}_0 \\\\vert \\\\mathbf{x}_1)} \\\\Big] \\\\\\\\\\n&= \\\\mathbb{E}_q \\\\Big[ -\\\\log p_\\\\theta(\\\\mathbf{x}_T) + \\\\sum_{t=2}^T \\\\log \\\\frac{q(\\\\mathbf{x}_{t-1} \\\\vert \\\\mathbf{x}_t, \\\\mathbf{x}_0)}{p_\\\\theta(\\\\mathbf{x}_{t-1} \\\\vert\\\\mathbf{x}_t)} + \\\\sum_{t=2}^T \\\\log \\\\frac{q(\\\\mathbf{x}_t \\\\vert \\\\mathbf{x}_0)}{q(\\\\mathbf{x}_{t-1} \\\\vert \\\\mathbf{x}_0)} + \\\\log\\\\frac{q(\\\\mathbf{x}_1 \\\\vert \\\\mathbf{x}_0)}{p_\\\\theta(\\\\mathbf{x}_0 \\\\vert \\\\mathbf{x}_1)} \\\\Big] \\\\\\\\\\n&= \\\\mathbb{E}_q \\\\Big[ -\\\\log p_\\\\theta(\\\\mathbf{x}_T) + \\\\sum_{t=2}^T \\\\log \\\\frac{q(\\\\mathbf{x}_{t-1} \\\\vert \\\\mathbf{x}_t, \\\\mathbf{x}_0)}{p_\\\\theta(\\\\mathbf{x}_{t-1} \\\\vert\\\\mathbf{x}_t)} + \\\\log\\\\frac{q(\\\\mathbf{x}_T \\\\vert \\\\mathbf{x}_0)}{q(\\\\mathbf{x}_1 \\\\vert \\\\mathbf{x}_0)} + \\\\log \\\\frac{q(\\\\mathbf{x}_1 \\\\vert \\\\mathbf{x}_0)}{p_\\\\theta(\\\\mathbf{x}_0 \\\\vert \\\\mathbf{x}_1)} \\\\Big]\\\\\\\\\\n&= \\\\mathbb{E}_q \\\\Big[ \\\\log\\\\frac{q(\\\\mathbf{x}_T \\\\vert \\\\mathbf{x}_0)}{p_\\\\theta(\\\\mathbf{x}_T)} + \\\\sum_{t=2}^T \\\\log \\\\frac{q(\\\\mathbf{x}_{t-1} \\\\vert \\\\mathbf{x}_t, \\\\mathbf{x}_0)}{p_\\\\theta(\\\\mathbf{x}_{t-1} \\\\vert\\\\mathbf{x}_t)} - \\\\log p_\\\\theta(\\\\mathbf{x}_0 \\\\vert \\\\mathbf{x}_1) \\\\Big] \\\\\\\\\\n&= \\\\mathbb{E}_q [\\\\underbrace{D_\\\\text{KL}(q(\\\\mathbf{x}_T \\\\vert \\\\mathbf{x}_0) \\\\parallel p_\\\\theta(\\\\mathbf{x}_T))}_{L_T} + \\\\sum_{t=2}^T \\\\underbrace{D_\\\\text{KL}(q(\\\\mathbf{x}_{t-1} \\\\vert \\\\mathbf{x}_t, \\\\mathbf{x}_0) \\\\parallel p_\\\\theta(\\\\mathbf{x}_{t-1} \\\\vert\\\\mathbf{x}_t))}_{L_{t-1}} \\\\underbrace{- \\\\log p_\\\\theta(\\\\mathbf{x}_0 \\\\vert \\\\mathbf{x}_1)}_{L_0} ]\\n\\\\end{aligned}\\n$$\\n\\nLet’s label each component in the variational lower bound loss separately:\\n\\n$$\\n\\\\begin{aligned}\\nL_\\\\text{VLB} &= L_T + L_{T-1} + \\\\dots + L_0 \\\\\\\\\\n\\\\text{where } L_T &= D_\\\\text{KL}(q(\\\\mathbf{x}_T \\\\vert \\\\mathbf{x}_0) \\\\parallel p_\\\\theta(\\\\mathbf{x}_T)) \\\\\\\\\\nL_t &= D_\\\\text{KL}(q(\\\\mathbf{x}_t \\\\vert \\\\mathbf{x}_{t+1}, \\\\mathbf{x}_0) \\\\parallel p_\\\\theta(\\\\mathbf{x}_t \\\\vert\\\\mathbf{x}_{t+1})) \\\\text{ for }1 \\\\leq t \\\\leq T-1 \\\\\\\\\\nL_0 &= - \\\\log p_\\\\theta(\\\\mathbf{x}_0 \\\\vert \\\\mathbf{x}_1)\\n\\\\end{aligned}\\n$$\\n\\nEvery KL term in $L_\\\\text{VLB}$ (except for $L_0$) compares two Gaussian distributions and therefore they can be computed in closed form. $L_T$ is constant and can be ignored during training because $q$ has no learnable parameters and $\\\\mathbf{x}_T$ is a Gaussian noise. Ho et al. 2020 models $L_0$ using a separate discrete decoder derived from $\\\\mathcal{N}(\\\\mathbf{x}_0; \\\\boldsymbol{\\\\mu}_\\\\theta(\\\\mathbf{x}_1, 1), \\\\boldsymbol{\\\\Sigma}_\\\\theta(\\\\mathbf{x}_1, 1))$.\\nParameterization of $L_t$ for Training Loss#\\nRecall that we need to learn a neural network to approximate the conditioned probability distributions in the reverse diffusion process, $p_\\\\theta(\\\\mathbf{x}_{t-1} \\\\vert \\\\mathbf{x}_t) = \\\\mathcal{N}(\\\\mathbf{x}_{t-1}; \\\\boldsymbol{\\\\mu}_\\\\theta(\\\\mathbf{x}_t, t), \\\\boldsymbol{\\\\Sigma}_\\\\theta(\\\\mathbf{x}_t, t))$. We would like to train $\\\\boldsymbol{\\\\mu}_\\\\theta$ to predict $\\\\tilde{\\\\boldsymbol{\\\\mu}}_t = \\\\frac{1}{\\\\sqrt{\\\\alpha_t}} \\\\Big( \\\\mathbf{x}_t - \\\\frac{1 - \\\\alpha_t}{\\\\sqrt{1 - \\\\bar{\\\\alpha}_t}} \\\\boldsymbol{\\\\epsilon}_t \\\\Big)$. Because $\\\\mathbf{x}_t$ is available as input at training time, we can reparameterize the Gaussian noise term instead to make it predict $\\\\boldsymbol{\\\\epsilon}_t$ from the input $\\\\mathbf{x}_t$ at time step $t$:\\n\\n$$\\n\\\\begin{aligned}\\n\\\\boldsymbol{\\\\mu}_\\\\theta(\\\\mathbf{x}_t, t) &= \\\\color{cyan}{\\\\frac{1}{\\\\sqrt{\\\\alpha_t}} \\\\Big( \\\\mathbf{x}_t - \\\\frac{1 - \\\\alpha_t}{\\\\sqrt{1 - \\\\bar{\\\\alpha}_t}} \\\\boldsymbol{\\\\epsilon}_\\\\theta(\\\\mathbf{x}_t, t) \\\\Big)} \\\\\\\\\\n\\\\text{Thus }\\\\mathbf{x}_{t-1} &= \\\\mathcal{N}(\\\\mathbf{x}_{t-1}; \\\\frac{1}{\\\\sqrt{\\\\alpha_t}} \\\\Big( \\\\mathbf{x}_t - \\\\frac{1 - \\\\alpha_t}{\\\\sqrt{1 - \\\\bar{\\\\alpha}_t}} \\\\boldsymbol{\\\\epsilon}_\\\\theta(\\\\mathbf{x}_t, t) \\\\Big), \\\\boldsymbol{\\\\Sigma}_\\\\theta(\\\\mathbf{x}_t, t))\\n\\\\end{aligned}\\n$$\\n\\nThe loss term $L_t$ is parameterized to minimize the difference from $\\\\tilde{\\\\boldsymbol{\\\\mu}}$ :\\n\\n$$\\n\\\\begin{aligned}\\nL_t \\n&= \\\\mathbb{E}_{\\\\mathbf{x}_0, \\\\boldsymbol{\\\\epsilon}} \\\\Big[\\\\frac{1}{2 \\\\| \\\\boldsymbol{\\\\Sigma}_\\\\theta(\\\\mathbf{x}_t, t) \\\\|^2_2} \\\\| \\\\color{blue}{\\\\tilde{\\\\boldsymbol{\\\\mu}}_t(\\\\mathbf{x}_t, \\\\mathbf{x}_0)} - \\\\color{green}{\\\\boldsymbol{\\\\mu}_\\\\theta(\\\\mathbf{x}_t, t)} \\\\|^2 \\\\Big] \\\\\\\\\\n&= \\\\mathbb{E}_{\\\\mathbf{x}_0, \\\\boldsymbol{\\\\epsilon}} \\\\Big[\\\\frac{1}{2  \\\\|\\\\boldsymbol{\\\\Sigma}_\\\\theta \\\\|^2_2} \\\\| \\\\color{blue}{\\\\frac{1}{\\\\sqrt{\\\\alpha_t}} \\\\Big( \\\\mathbf{x}_t - \\\\frac{1 - \\\\alpha_t}{\\\\sqrt{1 - \\\\bar{\\\\alpha}_t}} \\\\boldsymbol{\\\\epsilon}_t \\\\Big)} - \\\\color{green}{\\\\frac{1}{\\\\sqrt{\\\\alpha_t}} \\\\Big( \\\\mathbf{x}_t - \\\\frac{1 - \\\\alpha_t}{\\\\sqrt{1 - \\\\bar{\\\\alpha}_t}} \\\\boldsymbol{\\\\boldsymbol{\\\\epsilon}}_\\\\theta(\\\\mathbf{x}_t, t) \\\\Big)} \\\\|^2 \\\\Big] \\\\\\\\\\n&= \\\\mathbb{E}_{\\\\mathbf{x}_0, \\\\boldsymbol{\\\\epsilon}} \\\\Big[\\\\frac{ (1 - \\\\alpha_t)^2 }{2 \\\\alpha_t (1 - \\\\bar{\\\\alpha}_t) \\\\| \\\\boldsymbol{\\\\Sigma}_\\\\theta \\\\|^2_2} \\\\|\\\\boldsymbol{\\\\epsilon}_t - \\\\boldsymbol{\\\\epsilon}_\\\\theta(\\\\mathbf{x}_t, t)\\\\|^2 \\\\Big] \\\\\\\\\\n&= \\\\mathbb{E}_{\\\\mathbf{x}_0, \\\\boldsymbol{\\\\epsilon}} \\\\Big[\\\\frac{ (1 - \\\\alpha_t)^2 }{2 \\\\alpha_t (1 - \\\\bar{\\\\alpha}_t) \\\\| \\\\boldsymbol{\\\\Sigma}_\\\\theta \\\\|^2_2} \\\\|\\\\boldsymbol{\\\\epsilon}_t - \\\\boldsymbol{\\\\epsilon}_\\\\theta(\\\\sqrt{\\\\bar{\\\\alpha}_t}\\\\mathbf{x}_0 + \\\\sqrt{1 - \\\\bar{\\\\alpha}_t}\\\\boldsymbol{\\\\epsilon}_t, t)\\\\|^2 \\\\Big] \\n\\\\end{aligned}\\n$$\\n\\nSimplification#\\nEmpirically, Ho et al. (2020) found that training the diffusion model works better with a simplified objective that ignores the weighting term:\\n\\n$$\\n\\\\begin{aligned}\\nL_t^\\\\text{simple}\\n&= \\\\mathbb{E}_{t \\\\sim [1, T], \\\\mathbf{x}_0, \\\\boldsymbol{\\\\epsilon}_t} \\\\Big[\\\\|\\\\boldsymbol{\\\\epsilon}_t - \\\\boldsymbol{\\\\epsilon}_\\\\theta(\\\\mathbf{x}_t, t)\\\\|^2 \\\\Big] \\\\\\\\\\n&= \\\\mathbb{E}_{t \\\\sim [1, T], \\\\mathbf{x}_0, \\\\boldsymbol{\\\\epsilon}_t} \\\\Big[\\\\|\\\\boldsymbol{\\\\epsilon}_t - \\\\boldsymbol{\\\\epsilon}_\\\\theta(\\\\sqrt{\\\\bar{\\\\alpha}_t}\\\\mathbf{x}_0 + \\\\sqrt{1 - \\\\bar{\\\\alpha}_t}\\\\boldsymbol{\\\\epsilon}_t, t)\\\\|^2 \\\\Big]\\n\\\\end{aligned}\\n$$\\n\\nThe final simple objective is:\\n\\n$$\\nL_\\\\text{simple} = L_t^\\\\text{simple} + C\\n$$\\n\\nwhere $C$ is a constant not depending on $\\\\theta$.\\n\\nFig. 4. The training and sampling algorithms in DDPM (Image source: Ho et al. 2020)\\nConnection with noise-conditioned score networks (NCSN)#\\nSong & Ermon (2019) proposed a score-based generative modeling method where samples are produced via Langevin dynamics using gradients of the data distribution estimated with score matching. The score of each sample $\\\\mathbf{x}$’s density probability is defined as its gradient $\\\\nabla_{\\\\mathbf{x}} \\\\log q(\\\\mathbf{x})$. A score network $\\\\mathbf{s}_\\\\theta: \\\\mathbb{R}^D \\\\to \\\\mathbb{R}^D$ is trained to estimate it, $\\\\mathbf{s}_\\\\theta(\\\\mathbf{x}) \\\\approx \\\\nabla_{\\\\mathbf{x}} \\\\log q(\\\\mathbf{x})$.\\nTo make it scalable with high-dimensional data in the deep learning setting, they proposed to use either denoising score matching (Vincent, 2011) or sliced score matching (use random projections; Song et al., 2019). Denosing score matching adds a pre-specified small noise to the data $q(\\\\tilde{\\\\mathbf{x}} \\\\vert \\\\mathbf{x})$ and estimates $q(\\\\tilde{\\\\mathbf{x}})$ with score matching.\\nRecall that Langevin dynamics can sample data points from a probability density distribution using only the score $\\\\nabla_{\\\\mathbf{x}} \\\\log q(\\\\mathbf{x})$ in an iterative process.\\nHowever, according to the manifold hypothesis, most of the data is expected to concentrate in a low dimensional manifold, even though the observed data might look only arbitrarily high-dimensional. It brings a negative effect on score estimation since the data points cannot cover the whole space. In regions where data density is low, the score estimation is less reliable. After adding a small Gaussian noise to make the perturbed data distribution cover the full space $\\\\mathbb{R}^D$, the training of the score estimator network becomes more stable. Song & Ermon (2019) improved it by perturbing the data with the noise of different levels and train a noise-conditioned score network to jointly estimate the scores of all the perturbed data at different noise levels.\\nThe schedule of increasing noise levels resembles the forward diffusion process. If we use the diffusion process annotation, the score approximates $\\\\mathbf{s}_\\\\theta(\\\\mathbf{x}_t, t) \\\\approx \\\\nabla_{\\\\mathbf{x}_t} \\\\log q(\\\\mathbf{x}_t)$. Given a Gaussian distribution $\\\\mathbf{x} \\\\sim \\\\mathcal{N}(\\\\mathbf{\\\\mu}, \\\\sigma^2 \\\\mathbf{I})$, we can write the derivative of the logarithm of its density function as $\\\\nabla_{\\\\mathbf{x}}\\\\log p(\\\\mathbf{x}) = \\\\nabla_{\\\\mathbf{x}} \\\\Big(-\\\\frac{1}{2\\\\sigma^2}(\\\\mathbf{x} - \\\\boldsymbol{\\\\mu})^2 \\\\Big) = - \\\\frac{\\\\mathbf{x} - \\\\boldsymbol{\\\\mu}}{\\\\sigma^2} = - \\\\frac{\\\\boldsymbol{\\\\epsilon}}{\\\\sigma}$ where $\\\\boldsymbol{\\\\epsilon} \\\\sim \\\\mathcal{N}(\\\\boldsymbol{0}, \\\\mathbf{I})$. Recall that $q(\\\\mathbf{x}_t \\\\vert \\\\mathbf{x}_0) \\\\sim \\\\mathcal{N}(\\\\sqrt{\\\\bar{\\\\alpha}_t} \\\\mathbf{x}_0, (1 - \\\\bar{\\\\alpha}_t)\\\\mathbf{I})$ and therefore,\\n\\n$$\\n\\\\mathbf{s}_\\\\theta(\\\\mathbf{x}_t, t) \\n\\\\approx \\\\nabla_{\\\\mathbf{x}_t} \\\\log q(\\\\mathbf{x}_t)\\n= \\\\mathbb{E}_{q(\\\\mathbf{x}_0)} [\\\\nabla_{\\\\mathbf{x}_t} \\\\log q(\\\\mathbf{x}_t \\\\vert \\\\mathbf{x}_0)]\\n= \\\\mathbb{E}_{q(\\\\mathbf{x}_0)} \\\\Big[ - \\\\frac{\\\\boldsymbol{\\\\epsilon}_\\\\theta(\\\\mathbf{x}_t, t)}{\\\\sqrt{1 - \\\\bar{\\\\alpha}_t}} \\\\Big]\\n= - \\\\frac{\\\\boldsymbol{\\\\epsilon}_\\\\theta(\\\\mathbf{x}_t, t)}{\\\\sqrt{1 - \\\\bar{\\\\alpha}_t}}\\n$$\\n\\nParameterization of $\\\\beta_t$#\\nThe forward variances are set to be a sequence of linearly increasing constants in Ho et al. (2020), from $\\\\beta_1=10^{-4}$ to $\\\\beta_T=0.02$. They are relatively small compared to the normalized image pixel values between $[-1, 1]$. Diffusion models in their experiments showed high-quality samples but still could not achieve competitive model log-likelihood as other generative models.\\nNichol & Dhariwal (2021) proposed several improvement techniques to help diffusion models to obtain lower NLL. One of the improvements is to use a cosine-based variance schedule. The choice of the scheduling function can be arbitrary, as long as it provides a near-linear drop in the middle of the training process and subtle changes around $t=0$ and $t=T$.\\n\\n$$\\n\\\\beta_t = \\\\text{clip}(1-\\\\frac{\\\\bar{\\\\alpha}_t}{\\\\bar{\\\\alpha}_{t-1}}, 0.999) \\\\quad\\\\bar{\\\\alpha}_t = \\\\frac{f(t)}{f(0)}\\\\quad\\\\text{where }f(t)=\\\\cos\\\\Big(\\\\frac{t/T+s}{1+s}\\\\cdot\\\\frac{\\\\pi}{2}\\\\Big)^2\\n$$\\n\\nwhere the small offset $s$ is to prevent $\\\\beta_t$ from being too small when close to $t=0$.\\n\\nFig. 5. Comparison of linear and cosine-based scheduling of $\\\\beta\\\\_t$ during training. (Image source: Nichol & Dhariwal, 2021)\\nParameterization of reverse process variance $\\\\boldsymbol{\\\\Sigma}_\\\\theta$#\\nHo et al. (2020) chose to fix $\\\\beta_t$ as constants instead of making them learnable and set $\\\\boldsymbol{\\\\Sigma}_\\\\theta(\\\\mathbf{x}_t, t) = \\\\sigma^2_t \\\\mathbf{I}$ , where $\\\\sigma_t$ is not learned but set to $\\\\beta_t$ or $\\\\tilde{\\\\beta}_t = \\\\frac{1 - \\\\bar{\\\\alpha}_{t-1}}{1 - \\\\bar{\\\\alpha}_t} \\\\cdot \\\\beta_t$. Because they found that learning a diagonal variance $\\\\boldsymbol{\\\\Sigma}_\\\\theta$ leads to unstable training and poorer sample quality.\\nNichol & Dhariwal (2021) proposed to learn $\\\\boldsymbol{\\\\Sigma}_\\\\theta(\\\\mathbf{x}_t, t)$ as an interpolation between $\\\\beta_t$ and $\\\\tilde{\\\\beta}_t$ by model predicting a mixing vector $\\\\mathbf{v}$ :\\n\\n$$\\n\\\\boldsymbol{\\\\Sigma}_\\\\theta(\\\\mathbf{x}_t, t) = \\\\exp(\\\\mathbf{v} \\\\log \\\\beta_t + (1-\\\\mathbf{v}) \\\\log \\\\tilde{\\\\beta}_t)\\n$$\\n\\nHowever, the simple objective $L_\\\\text{simple}$ does not depend on $\\\\boldsymbol{\\\\Sigma}_\\\\theta$ . To add the dependency, they constructed a hybrid objective $L_\\\\text{hybrid} = L_\\\\text{simple} + \\\\lambda L_\\\\text{VLB}$ where $\\\\lambda=0.001$ is small and stop gradient on $\\\\boldsymbol{\\\\mu}_\\\\theta$ in the $L_\\\\text{VLB}$ term such that $L_\\\\text{VLB}$ only guides the learning of $\\\\boldsymbol{\\\\Sigma}_\\\\theta$. Empirically they observed that $L_\\\\text{VLB}$ is pretty challenging to optimize likely due to noisy gradients, so they proposed to use a time-averaging smoothed version of $L_\\\\text{VLB}$ with importance sampling.\\n\\nFig. 6. Comparison of negative log-likelihood of improved DDPM with other likelihood-based generative models. NLL is reported in the unit of bits/dim. (Image source: Nichol & Dhariwal, 2021)\\nConditioned Generation#\\nWhile training generative models on images with conditioning information such as ImageNet dataset, it is common to generate samples conditioned on class labels or a piece of descriptive text.\\nClassifier Guided Diffusion#\\nTo explicit incorporate class information into the diffusion process, Dhariwal & Nichol (2021) trained a classifier $f_\\\\phi(y \\\\vert \\\\mathbf{x}_t, t)$ on noisy image $\\\\mathbf{x}_t$ and use gradients $\\\\nabla_\\\\mathbf{x} \\\\log f_\\\\phi(y \\\\vert \\\\mathbf{x}_t)$ to guide the diffusion sampling process toward the conditioning information $y$ (e.g. a target class label) by altering the noise prediction.\\nRecall that $\\\\nabla_{\\\\mathbf{x}_t} \\\\log q(\\\\mathbf{x}_t) = - \\\\frac{1}{\\\\sqrt{1 - \\\\bar{\\\\alpha}_t}} \\\\boldsymbol{\\\\epsilon}_\\\\theta(\\\\mathbf{x}_t, t)$ and we can write the score function for the joint distribution $q(\\\\mathbf{x}_t, y)$ as following,\\n\\n$$\\n\\\\begin{aligned}\\n\\\\nabla_{\\\\mathbf{x}_t} \\\\log q(\\\\mathbf{x}_t, y)\\n&= \\\\nabla_{\\\\mathbf{x}_t} \\\\log q(\\\\mathbf{x}_t) + \\\\nabla_{\\\\mathbf{x}_t} \\\\log q(y \\\\vert \\\\mathbf{x}_t) \\\\\\\\\\n&\\\\approx - \\\\frac{1}{\\\\sqrt{1 - \\\\bar{\\\\alpha}_t}} \\\\boldsymbol{\\\\epsilon}_\\\\theta(\\\\mathbf{x}_t, t) + \\\\nabla_{\\\\mathbf{x}_t} \\\\log f_\\\\phi(y \\\\vert \\\\mathbf{x}_t) \\\\\\\\\\n&= - \\\\frac{1}{\\\\sqrt{1 - \\\\bar{\\\\alpha}_t}} (\\\\boldsymbol{\\\\epsilon}_\\\\theta(\\\\mathbf{x}_t, t) - \\\\sqrt{1 - \\\\bar{\\\\alpha}_t} \\\\nabla_{\\\\mathbf{x}_t} \\\\log f_\\\\phi(y \\\\vert \\\\mathbf{x}_t))\\n\\\\end{aligned}\\n$$\\n\\nThus, a new classifier-guided predictor $\\\\bar{\\\\boldsymbol{\\\\epsilon}}_\\\\theta$ would take the form as following,\\n\\n$$\\n\\\\bar{\\\\boldsymbol{\\\\epsilon}}_\\\\theta(\\\\mathbf{x}_t, t) = \\\\boldsymbol{\\\\epsilon}_\\\\theta(x_t, t) - \\\\sqrt{1 - \\\\bar{\\\\alpha}_t} \\\\nabla_{\\\\mathbf{x}_t} \\\\log f_\\\\phi(y \\\\vert \\\\mathbf{x}_t)\\n$$\\n\\nTo control the strength of the classifier guidance, we can add a weight $w$ to the delta part,\\n\\n$$\\n\\\\bar{\\\\boldsymbol{\\\\epsilon}}_\\\\theta(\\\\mathbf{x}_t, t) = \\\\boldsymbol{\\\\epsilon}_\\\\theta(x_t, t) - \\\\sqrt{1 - \\\\bar{\\\\alpha}_t} \\\\; w \\\\nabla_{\\\\mathbf{x}_t} \\\\log f_\\\\phi(y \\\\vert \\\\mathbf{x}_t)\\n$$\\n\\nThe resulting ablated diffusion model (ADM) and the one with additional classifier guidance (ADM-G) are able to achieve better results than SOTA generative models (e.g. BigGAN).\\n\\nFig. 7. The algorithms use guidance from a classifier to run conditioned generation with DDPM and DDIM. (Image source:  Dhariwal & Nichol, 2021])\\nAdditionally with some modifications on the U-Net architecture, Dhariwal & Nichol (2021) showed performance better than GAN with diffusion models. The architecture modifications include larger model depth/width, more attention heads, multi-resolution attention, BigGAN residual blocks for up/downsampling, residual connection rescale by $1/\\\\sqrt{2}$ and adaptive group normalization (AdaGN).\\nClassifier-Free Guidance#\\nWithout an independent classifier $f_\\\\phi$, it is still possible to run conditional diffusion steps by incorporating the scores from a conditional and an unconditional diffusion model (Ho & Salimans, 2021). Let unconditional denoising diffusion model $p_\\\\theta(\\\\mathbf{x})$ parameterized through a score estimator $\\\\boldsymbol{\\\\epsilon}_\\\\theta(\\\\mathbf{x}_t, t)$ and the conditional model $p_\\\\theta(\\\\mathbf{x} \\\\vert y)$ parameterized through $\\\\boldsymbol{\\\\epsilon}_\\\\theta(\\\\mathbf{x}_t, t, y)$. These two models can be learned via a single neural network. Precisely, a conditional diffusion model $p_\\\\theta(\\\\mathbf{x} \\\\vert y)$ is trained on paired data $(\\\\mathbf{x}, y)$, where the conditioning information $y$ gets discarded periodically at random such that the model knows how to generate images unconditionally as well, i.e. $\\\\boldsymbol{\\\\epsilon}_\\\\theta(\\\\mathbf{x}_t, t) = \\\\boldsymbol{\\\\epsilon}_\\\\theta(\\\\mathbf{x}_t, t, y=\\\\varnothing)$.\\nThe gradient of an implicit classifier can be represented with conditional and unconditional score estimators. Once plugged into the classifier-guided modified score, the score contains no dependency on a separate classifier.\\n\\n$$\\n\\\\begin{aligned}\\n\\\\nabla_{\\\\mathbf{x}_t} \\\\log p(y \\\\vert \\\\mathbf{x}_t)\\n&= \\\\nabla_{\\\\mathbf{x}_t} \\\\log p(\\\\mathbf{x}_t \\\\vert y) - \\\\nabla_{\\\\mathbf{x}_t} \\\\log p(\\\\mathbf{x}_t) \\\\\\\\\\n&= - \\\\frac{1}{\\\\sqrt{1 - \\\\bar{\\\\alpha}_t}}\\\\Big( \\\\boldsymbol{\\\\epsilon}_\\\\theta(\\\\mathbf{x}_t, t, y) - \\\\boldsymbol{\\\\epsilon}_\\\\theta(\\\\mathbf{x}_t, t) \\\\Big) \\\\\\\\\\n\\\\bar{\\\\boldsymbol{\\\\epsilon}}_\\\\theta(\\\\mathbf{x}_t, t, y)\\n&= \\\\boldsymbol{\\\\epsilon}_\\\\theta(\\\\mathbf{x}_t, t, y) - \\\\sqrt{1 - \\\\bar{\\\\alpha}_t} \\\\; w \\\\nabla_{\\\\mathbf{x}_t} \\\\log p(y \\\\vert \\\\mathbf{x}_t) \\\\\\\\\\n&= \\\\boldsymbol{\\\\epsilon}_\\\\theta(\\\\mathbf{x}_t, t, y) + w \\\\big(\\\\boldsymbol{\\\\epsilon}_\\\\theta(\\\\mathbf{x}_t, t, y) - \\\\boldsymbol{\\\\epsilon}_\\\\theta(\\\\mathbf{x}_t, t) \\\\big) \\\\\\\\\\n&= (w+1) \\\\boldsymbol{\\\\epsilon}_\\\\theta(\\\\mathbf{x}_t, t, y) - w \\\\boldsymbol{\\\\epsilon}_\\\\theta(\\\\mathbf{x}_t, t)\\n\\\\end{aligned}\\n$$\\n\\nTheir experiments showed that classifier-free guidance can achieve a good balance between FID (distinguish between synthetic and generated images) and IS (quality and diversity).\\n\\nThe guided diffusion model, GLIDE (Nichol, Dhariwal & Ramesh, et al. 2022), explored both guiding strategies, CLIP guidance and classifier-free guidance, and found that the latter is more preferred. They hypothesized that it is because CLIP guidance exploits the model with adversarial examples towards the CLIP model, rather than optimize the better matched images generation.\\nSpeed up Diffusion Models#\\nIt is very slow to generate a sample from DDPM by following the Markov chain of the reverse diffusion process, as $T$ can be up to one or a few thousand steps. One data point from Song et al. (2020): “For example, it takes around 20 hours to sample 50k images of size 32 × 32 from a DDPM, but less than a minute to do so from a GAN on an Nvidia 2080 Ti GPU.”\\nFewer Sampling Steps & Distillation#\\nOne simple way is to run a strided sampling schedule (Nichol & Dhariwal, 2021) by taking the sampling update every $\\\\lceil T/S \\\\rceil$ steps to reduce the process from $T$ to $S$ steps. The new sampling schedule for generation is $\\\\{\\\\tau_1, \\\\dots, \\\\tau_S\\\\}$  where $\\\\tau_1 < \\\\tau_2 < \\\\dots <\\\\tau_S \\\\in [1, T]$ and $S < T$.\\nFor another approach, let’s rewrite $q_\\\\sigma(\\\\mathbf{x}_{t-1} \\\\vert \\\\mathbf{x}_t, \\\\mathbf{x}_0)$ to be parameterized by a desired standard deviation $\\\\sigma_t$ according to the nice property:\\n\\n$$\\n\\\\begin{aligned}\\n\\\\mathbf{x}_{t-1} \\n&= \\\\sqrt{\\\\bar{\\\\alpha}_{t-1}}\\\\mathbf{x}_0 +  \\\\sqrt{1 - \\\\bar{\\\\alpha}_{t-1}}\\\\boldsymbol{\\\\epsilon}_{t-1} & \\\\\\\\\\n&= \\\\sqrt{\\\\bar{\\\\alpha}_{t-1}}\\\\mathbf{x}_0 + \\\\sqrt{1 - \\\\bar{\\\\alpha}_{t-1} - \\\\sigma_t^2} \\\\boldsymbol{\\\\epsilon}_t + \\\\sigma_t\\\\boldsymbol{\\\\epsilon} & \\\\\\\\\\n&= \\\\sqrt{\\\\bar{\\\\alpha}_{t-1}} \\\\Big( \\\\frac{\\\\mathbf{x}_t - \\\\sqrt{1 - \\\\bar{\\\\alpha}_t} \\\\epsilon^{(t)}_\\\\theta(\\\\mathbf{x}_t)}{\\\\sqrt{\\\\bar{\\\\alpha}_t}} \\\\Big) + \\\\sqrt{1 - \\\\bar{\\\\alpha}_{t-1} - \\\\sigma_t^2} \\\\epsilon^{(t)}_\\\\theta(\\\\mathbf{x}_t) + \\\\sigma_t\\\\boldsymbol{\\\\epsilon} \\\\\\\\\\nq_\\\\sigma(\\\\mathbf{x}_{t-1} \\\\vert \\\\mathbf{x}_t, \\\\mathbf{x}_0)\\n&= \\\\mathcal{N}(\\\\mathbf{x}_{t-1}; \\\\sqrt{\\\\bar{\\\\alpha}_{t-1}} \\\\Big( \\\\frac{\\\\mathbf{x}_t - \\\\sqrt{1 - \\\\bar{\\\\alpha}_t} \\\\epsilon^{(t)}_\\\\theta(\\\\mathbf{x}_t)}{\\\\sqrt{\\\\bar{\\\\alpha}_t}} \\\\Big) + \\\\sqrt{1 - \\\\bar{\\\\alpha}_{t-1} - \\\\sigma_t^2} \\\\epsilon^{(t)}_\\\\theta(\\\\mathbf{x}_t), \\\\sigma_t^2 \\\\mathbf{I})\\n\\\\end{aligned}\\n$$\\n\\nwhere the model $\\\\epsilon^{(t)}_\\\\theta(.)$ predicts the $\\\\epsilon_t$ from $\\\\mathbf{x}_t$.\\nRecall that in $q(\\\\mathbf{x}_{t-1} \\\\vert \\\\mathbf{x}_t, \\\\mathbf{x}_0) = \\\\mathcal{N}(\\\\mathbf{x}_{t-1}; \\\\tilde{\\\\boldsymbol{\\\\mu}}(\\\\mathbf{x}_t, \\\\mathbf{x}_0), \\\\tilde{\\\\beta}_t \\\\mathbf{I})$, therefore we have:\\n\\n$$\\n\\\\tilde{\\\\beta}_t = \\\\sigma_t^2 = \\\\frac{1 - \\\\bar{\\\\alpha}_{t-1}}{1 - \\\\bar{\\\\alpha}_t} \\\\cdot \\\\beta_t\\n$$\\n\\nLet $\\\\sigma_t^2 = \\\\eta \\\\cdot \\\\tilde{\\\\beta}_t$ such that we can adjust $\\\\eta \\\\in \\\\mathbb{R}^+$ as a hyperparameter to control the sampling stochasticity. The special case of $\\\\eta = 0$ makes the sampling process deterministic. Such a model is named the denoising diffusion implicit model (DDIM; Song et al., 2020). DDIM has the same marginal noise distribution but deterministically maps noise back to the original data samples.\\nDuring generation, we don’t have to follow the whole chain $t=1,\\\\dots,T$, but rather a subset of steps. Let’s denote $s < t$ as two steps in this accelerated trajectory. The DDIM update step is:\\n\\n$$\\nq_{\\\\sigma, s < t}(\\\\mathbf{x}_s \\\\vert \\\\mathbf{x}_t, \\\\mathbf{x}_0)\\n= \\\\mathcal{N}(\\\\mathbf{x}_s; \\\\sqrt{\\\\bar{\\\\alpha}_s} \\\\Big( \\\\frac{\\\\mathbf{x}_t - \\\\sqrt{1 - \\\\bar{\\\\alpha}_t} \\\\epsilon^{(t)}_\\\\theta(\\\\mathbf{x}_t)}{\\\\sqrt{\\\\bar{\\\\alpha}_t}} \\\\Big) + \\\\sqrt{1 - \\\\bar{\\\\alpha}_s - \\\\sigma_t^2} \\\\epsilon^{(t)}_\\\\theta(\\\\mathbf{x}_t), \\\\sigma_t^2 \\\\mathbf{I})\\n$$\\n\\nWhile all the models are trained with $T=1000$ diffusion steps in the experiments, they observed that DDIM ($\\\\eta=0$) can produce the best quality samples when $S$ is small, while DDPM ($\\\\eta=1$) performs much worse on small $S$. DDPM does perform better when we can afford to run the full reverse Markov diffusion steps ($S=T=1000$). With DDIM, it is possible to train the diffusion model up to any arbitrary number of forward steps but only sample from a subset of steps in the generative process.\\n\\nFig. 8. FID scores on CIFAR10 and CelebA datasets by diffusion models of different settings, including $\\\\color{cyan}{\\\\text{DDIM}}$ ($\\\\eta=0$) and $\\\\color{orange}{\\\\text{DDPM}}$ ($\\\\hat{\\\\sigma}$). (Image source: Song et al., 2020)\\nCompared to DDPM, DDIM is able to:\\n\\nGenerate higher-quality samples using a much fewer number of steps.\\nHave “consistency” property since the generative process is deterministic, meaning that multiple samples conditioned on the same latent variable should have similar high-level features.\\nBecause of the consistency, DDIM can do semantically meaningful interpolation in the latent variable.\\n\\n\\nFig. 9. Progressive distillation can reduce the diffusion sampling steps by half in each iteration. (Image source: Salimans & Ho, 2022)\\nProgressive Distillation (Salimans & Ho, 2022) is a method for distilling trained deterministic samplers into new models of halved sampling steps. The student model is initialized from the teacher model and denoises towards a target where one student DDIM step matches 2 teacher steps, instead of using the original sample $\\\\mathbf{x}_0$ as the denoise target. In every progressive distillation iteration, we can half the sampling steps.\\n\\nFig. 10. Comparison of Algorithm 1 (diffusion model training) and Algorithm 2 (progressive distillation) side-by-side, where the relative changes in progressive distillation are highlighted in green.(Image source: Salimans & Ho, 2022)\\nConsistency Models (Song et al. 2023) learns to map any intermediate noisy data points $\\\\mathbf{x}_t, t > 0$ on the diffusion sampling trajectory back to its origin $\\\\mathbf{x}_0$ directly. It is named as consistency model because of its self-consistency property as any data points on the same trajectory is mapped to the same origin.\\n\\nFig. 11. Consistency models learn to map any data point on the trajectory back to its origin. (Image source: Song et al., 2023)\\nGiven a trajectory $\\\\{\\\\mathbf{x}_t \\\\vert t \\\\in [\\\\epsilon, T]\\\\}$ , the consistency function $f$ is defined as $f: (\\\\mathbf{x}_t, t) \\\\mapsto \\\\mathbf{x}_\\\\epsilon$ and the equation $f(\\\\mathbf{x}_t, t) = f(\\\\mathbf{x}_{t’}, t’) = \\\\mathbf{x}_\\\\epsilon$ holds true for all $t, t’ \\\\in [\\\\epsilon, T]$. When $t=\\\\epsilon$, $f$ is an identify function. The model can be parameterized as follows, where $c_\\\\text{skip}(t)$ and $c_\\\\text{out}(t)$ functions are designed in a way that $c_\\\\text{skip}(\\\\epsilon) = 1, c_\\\\text{out}(\\\\epsilon) = 0$:\\n\\n$$\\nf_\\\\theta(\\\\mathbf{x}, t) = c_\\\\text{skip}(t)\\\\mathbf{x} + c_\\\\text{out}(t) F_\\\\theta(\\\\mathbf{x}, t)\\n$$\\n\\nIt is possible for the consistency model to generate samples in a single step, while still maintaining the flexibility of trading computation for better quality following a multi-step sampling process.\\nThe paper introduced two ways to train consistency models:\\n\\n\\nConsistency Distillation (CD): Distill a diffusion model into a consistency model by minimizing the difference between model outputs for pairs generated out of the same trajectory. This enables a much cheaper sampling evaluation. The consistency distillation loss is:\\n\\n $$\\n \\\\begin{aligned}\\n \\\\mathcal{L}^N_\\\\text{CD} (\\\\theta, \\\\theta^-; \\\\phi) &= \\\\mathbb{E}\\n [\\\\lambda(t_n)d(f_\\\\theta(\\\\mathbf{x}_{t_{n+1}}, t_{n+1}), f_{\\\\theta^-}(\\\\hat{\\\\mathbf{x}}^\\\\phi_{t_n}, t_n)] \\\\\\\\\\n \\\\hat{\\\\mathbf{x}}^\\\\phi_{t_n} &= \\\\mathbf{x}_{t_{n+1}} - (t_n - t_{n+1}) \\\\Phi(\\\\mathbf{x}_{t_{n+1}}, t_{n+1}; \\\\phi)\\n \\\\end{aligned}\\n $$\\n \\nwhere\\n\\n$\\\\Phi(.;\\\\phi)$ is the update function of a one-step ODE solver;\\n$n \\\\sim \\\\mathcal{U}[1, N-1]$, has an uniform distribution over $1, \\\\dots, N-1$;\\nThe network parameters $\\\\theta^-$ is EMA version of $\\\\theta$ which greatly stabilizes the training (just like in DQN or momentum contrastive learning);\\n$d(.,.)$ is a positive distance metric function that satisfies $\\\\forall \\\\mathbf{x}, \\\\mathbf{y}: d(\\\\mathbf{x}, \\\\mathbf{y}) \\\\geq 0$ and $d(\\\\mathbf{x}, \\\\mathbf{y}) = 0$ if and only if $\\\\mathbf{x} = \\\\mathbf{y}$ such as $\\\\ell_2$, $\\\\ell_1$ or LPIPS (learned perceptual image patch similarity) distance;\\n$\\\\lambda(.) \\\\in \\\\mathbb{R}^+$ is a positive weighting function and the paper sets $\\\\lambda(t_n)=1$.\\n\\n\\n\\nConsistency Training (CT): The other option is to train a consistency model independently. Note that in CD, a pre-trained score model $s_\\\\phi(\\\\mathbf{x}, t)$ is used to approximate the ground truth score $\\\\nabla\\\\log p_t(\\\\mathbf{x})$ but in CT we need a way to estimate this score function and it turns out an unbiased estimator of $\\\\nabla\\\\log p_t(\\\\mathbf{x})$ exists as $-\\\\frac{\\\\mathbf{x}_t - \\\\mathbf{x}}{t^2}$. The CT loss is defined as follows:\\n\\n\\n\\n$$\\n\\\\mathcal{L}^N_\\\\text{CT} (\\\\theta, \\\\theta^-; \\\\phi) = \\\\mathbb{E}\\n[\\\\lambda(t_n)d(f_\\\\theta(\\\\mathbf{x} + t_{n+1} \\\\mathbf{z},\\\\;t_{n+1}), f_{\\\\theta^-}(\\\\mathbf{x} + t_n \\\\mathbf{z},\\\\;t_n)]\\n\\\\text{ where }\\\\mathbf{z} \\\\in \\\\mathcal{N}(\\\\mathbf{0}, \\\\mathbf{I})\\n$$\\n\\nAccording to the experiments in the paper, they found,\\n\\nHeun ODE solver works better than Euler’s first-order solver, since higher order ODE solvers have smaller estimation errors with the same $N$.\\nAmong different options of the distance metric function $d(.)$, the LPIPS metric works better than $\\\\ell_1$ and $\\\\ell_2$ distance.\\nSmaller $N$ leads to faster convergence but worse samples, whereas larger $N$ leads to slower convergence but better samples upon convergence.\\n\\n\\nFig. 12. Comparison of consistency models\\' performance under different configurations. The best configuration for CD is LPIPS distance metric, Heun ODE solver, and $N=18$.  (Image source: Song et al., 2023)\\nLatent Variable Space#\\nLatent diffusion model (LDM; Rombach & Blattmann, et al. 2022) runs the diffusion process in the latent space instead of pixel space, making training cost lower and inference speed faster. It is motivated by the observation that most bits of an image contribute to perceptual details and the semantic and conceptual composition still remains after aggressive compression. LDM loosely decomposes the perceptual compression and semantic compression with generative modeling learning by first trimming off pixel-level redundancy with autoencoder and then manipulating / generating semantic concepts with diffusion process on learned latent.\\n\\nFig. 13. The plot for tradeoff between compression rate and distortion, illustrating two-stage compressions - perceptual and semantic compression. (Image source: Rombach & Blattmann, et al. 2022)\\nThe perceptual compression process relies on an autoencoder model. An encoder $\\\\mathcal{E}$ is used to compress the input image $\\\\mathbf{x} \\\\in \\\\mathbb{R}^{H \\\\times W \\\\times 3}$ to a smaller 2D latent vector $\\\\mathbf{z} = \\\\mathcal{E}(\\\\mathbf{x}) \\\\in \\\\mathbb{R}^{h \\\\times w \\\\times c}$ , where the downsampling rate $f=H/h=W/w=2^m, m \\\\in \\\\mathbb{N}$. Then an decoder $\\\\mathcal{D}$ reconstructs the images from the latent vector, $\\\\tilde{\\\\mathbf{x}} = \\\\mathcal{D}(\\\\mathbf{z})$. The paper explored two types of regularization in autoencoder training to avoid arbitrarily high-variance in the latent spaces.\\n\\nKL-reg: A small KL penalty towards a standard normal distribution over the learned latent, similar to VAE.\\nVQ-reg: Uses a vector quantization layer within the decoder, like VQVAE but the quantization layer is absorbed by the decoder.\\n\\nThe diffusion and denoising processes happen on the latent vector $\\\\mathbf{z}$. The denoising model is a time-conditioned U-Net, augmented with the cross-attention mechanism to handle flexible conditioning information for image generation (e.g. class labels, semantic maps, blurred variants of an image). The design is equivalent to fuse representation of different modality into the model with a cross-attention mechanism. Each type of conditioning information is paired with a domain-specific encoder $\\\\tau_\\\\theta$ to project the conditioning input $y$ to an intermediate representation that can be mapped into cross-attention component, $\\\\tau_\\\\theta(y) \\\\in \\\\mathbb{R}^{M \\\\times d_\\\\tau}$:\\n\\n$$\\n\\\\begin{aligned}\\n&\\\\text{Attention}(\\\\mathbf{Q}, \\\\mathbf{K}, \\\\mathbf{V}) = \\\\text{softmax}\\\\Big(\\\\frac{\\\\mathbf{Q}\\\\mathbf{K}^\\\\top}{\\\\sqrt{d}}\\\\Big) \\\\cdot \\\\mathbf{V} \\\\\\\\\\n&\\\\text{where }\\\\mathbf{Q} = \\\\mathbf{W}^{(i)}_Q \\\\cdot \\\\varphi_i(\\\\mathbf{z}_i),\\\\;\\n\\\\mathbf{K} = \\\\mathbf{W}^{(i)}_K \\\\cdot \\\\tau_\\\\theta(y),\\\\;\\n\\\\mathbf{V} = \\\\mathbf{W}^{(i)}_V \\\\cdot \\\\tau_\\\\theta(y) \\\\\\\\\\n&\\\\text{and }\\n\\\\mathbf{W}^{(i)}_Q \\\\in \\\\mathbb{R}^{d \\\\times d^i_\\\\epsilon},\\\\;\\n\\\\mathbf{W}^{(i)}_K, \\\\mathbf{W}^{(i)}_V \\\\in \\\\mathbb{R}^{d \\\\times d_\\\\tau},\\\\;\\n\\\\varphi_i(\\\\mathbf{z}_i) \\\\in \\\\mathbb{R}^{N \\\\times d^i_\\\\epsilon},\\\\;\\n\\\\tau_\\\\theta(y) \\\\in \\\\mathbb{R}^{M \\\\times d_\\\\tau}\\n\\\\end{aligned}\\n$$\\n\\n\\nFig. 14. The architecture of the latent diffusion model (LDM). (Image source: Rombach & Blattmann, et al. 2022)\\nScale up Generation Resolution and Quality#\\nTo generate high-quality images at high resolution, Ho et al. (2021) proposed to use a pipeline of multiple diffusion models at increasing resolutions. Noise conditioning augmentation between pipeline models is crucial to the final image quality, which is to apply strong data augmentation to the conditioning input $\\\\mathbf{z}$ of each super-resolution model $p_\\\\theta(\\\\mathbf{x} \\\\vert \\\\mathbf{z})$. The conditioning noise helps reduce compounding error in the pipeline setup. U-net is a common choice of model architecture in diffusion modeling for high-resolution image generation.\\n\\nFig. 15. A cascaded pipeline of multiple diffusion models at increasing resolutions. (Image source:  Ho et al. 2021])\\nThey found the most effective noise is to apply Gaussian noise at low resolution and Gaussian blur at high resolution. In addition, they also explored two forms of conditioning augmentation that require small modification to the training process. Note that conditioning noise is only applied to training but not at inference.\\n\\nTruncated conditioning augmentation stops the diffusion process early at step $t > 0$ for low resolution.\\nNon-truncated conditioning augmentation runs the full low resolution reverse process until step 0 but then corrupt it by $\\\\mathbf{z}_t \\\\sim q(\\\\mathbf{x}_t \\\\vert \\\\mathbf{x}_0)$ and then feeds the corrupted $\\\\mathbf{z}_t$ s into the super-resolution model.\\n\\nThe two-stage diffusion model unCLIP (Ramesh et al. 2022) heavily utilizes the CLIP text encoder to produce text-guided images at high quality. Given a pretrained CLIP model $\\\\mathbf{c}$ and paired training data for the diffusion model, $(\\\\mathbf{x}, y)$, where $x$ is an image and $y$ is the corresponding caption, we can compute the CLIP text and image embedding, $\\\\mathbf{c}^t(y)$ and $\\\\mathbf{c}^i(\\\\mathbf{x})$, respectively. The unCLIP learns two models in parallel:\\n\\nA prior model $P(\\\\mathbf{c}^i \\\\vert y)$: outputs CLIP image embedding $\\\\mathbf{c}^i$ given the text $y$.\\nA decoder $P(\\\\mathbf{x} \\\\vert \\\\mathbf{c}^i, [y])$: generates the image $\\\\mathbf{x}$ given CLIP image embedding $\\\\mathbf{c}^i$ and optionally the original text $y$.\\n\\nThese two models enable conditional generation, because\\n\\n$$\\n\\\\underbrace{P(\\\\mathbf{x} \\\\vert y) = P(\\\\mathbf{x}, \\\\mathbf{c}^i \\\\vert y)}_{\\\\mathbf{c}^i\\\\text{ is deterministic given }\\\\mathbf{x}} = P(\\\\mathbf{x} \\\\vert \\\\mathbf{c}^i, y)P(\\\\mathbf{c}^i \\\\vert y)\\n$$\\n\\n\\nFig. 16. The architecture of unCLIP. (Image source:  Ramesh et al. 2022])\\nunCLIP follows a two-stage image generation process:\\n\\nGiven a text $y$, a CLIP model is first used to generate a text embedding $\\\\mathbf{c}^t(y)$. Using CLIP latent space enables zero-shot image manipulation via text.\\nA diffusion or autoregressive prior $P(\\\\mathbf{c}^i \\\\vert y)$ processes this CLIP text embedding to construct an image prior and then a diffusion decoder $P(\\\\mathbf{x} \\\\vert \\\\mathbf{c}^i, [y])$ generates an image, conditioned on the prior. This decoder can also generate image variations conditioned on an image input, preserving its style and semantics.\\n\\nInstead of CLIP model, Imagen (Saharia et al. 2022) uses a pre-trained large LM (i.e. a frozen T5-XXL text encoder) to encode text for image generation. There is a general trend that larger model size can lead to better image quality and text-image alignment. They found that T5-XXL and CLIP text encoder achieve similar performance on MS-COCO, but human evaluation prefers T5-XXL on DrawBench (a collection of prompts covering 11 categories).\\nWhen applying classifier-free guidance, increasing $w$ may lead to better image-text alignment but worse image fidelity. They found that it is due to train-test mismatch, that is to say, because training data $\\\\mathbf{x}$ stays within the range $[-1, 1]$, the test data should be so too. Two thresholding strategies are introduced:\\n\\nStatic thresholding: clip $\\\\mathbf{x}$ prediction to $[-1, 1]$\\nDynamic thresholding: at each sampling step, compute $s$ as a certain percentile absolute pixel value; if $s > 1$, clip the prediction to $[-s, s]$ and divide by $s$.\\n\\nImagen modifies several designs in U-net to make it efficient U-Net.\\n\\nShift model parameters from high resolution blocks to low resolution by adding more residual locks for the lower resolutions;\\nScale the skip connections by $1/\\\\sqrt{2}$\\nReverse the order of downsampling (move it before convolutions) and upsampling operations (move it after convolution) in order to improve the speed of forward pass.\\n\\nThey found that noise conditioning augmentation, dynamic thresholding and efficient U-Net are critical for image quality, but scaling text encoder size is more important than U-Net size.\\nModel Architecture#\\nThere are two common backbone architecture choices for diffusion models: U-Net and Transformer.\\nU-Net (Ronneberger, et al. 2015) consists of a downsampling stack and an upsampling stack.\\n\\nDownsampling: Each step consists of the repeated application of two 3x3 convolutions (unpadded convolutions), each followed by a ReLU and a 2x2 max pooling with stride 2. At each downsampling step, the number of feature channels is doubled.\\nUpsampling: Each step consists of an upsampling of the feature map followed by a 2x2 convolution and each halves the number of feature channels.\\nShortcuts: Shortcut connections result in a concatenation with the corresponding layers of the downsampling stack and provide the essential high-resolution features to the upsampling process.\\n\\n\\nFig. 17. The U-net architecture. Each blue square is a feature map with the number of channels labeled on top and the height x width dimension labeled on the left bottom side. The gray arrows mark the shortcut connections. (Image source: Ronneberger, 2015)\\nTo enable image generation conditioned on additional images for composition info like Canny edges, Hough lines, user scribbles, human post skeletons, segmentation maps, depths and normals, ControlNet (Zhang et al. 2023 introduces architectural changes via adding a “sandwiched” zero convolution layers of a trainable copy of the original model weights into each encoder layer of the U-Net. Precisely, given a neural network block $\\\\mathcal{F}_\\\\theta(.)$, ControlNet does the following:\\n\\nFirst, freeze the original parameters $\\\\theta$ of the original block\\nClone it to be a copy with trainable parameters $\\\\theta_c$  and an additional conditioning vector $\\\\mathbf{c}$.\\nUse two zero convolution layers, denoted as $\\\\mathcal{Z}_{\\\\theta_{z1}}(.;.)$ and $\\\\mathcal{Z}_{\\\\theta_{z2}}(.;.)$, which is 1x1 convo layers with both weights and biases initialized to be zeros, to connect these two blocks. Zero convolutions protect this back-bone by eliminating random noise as gradients in the initial training steps.\\nThe final output is: $\\\\mathbf{y}_c = \\\\mathcal{F}_\\\\theta(\\\\mathbf{x}) + \\\\mathcal{Z}_{\\\\theta_{z2}}(\\\\mathcal{F}_{\\\\theta_c}(\\\\mathbf{x} + \\\\mathcal{Z}_{\\\\theta_{z1}}(\\\\mathbf{c})))$\\n\\n\\nFig. 18. The ControlNet architecture. (Image source: Zhang et al. 2023)\\nDiffusion Transformer (DiT; Peebles & Xie, 2023) for diffusion modeling operates on latent patches, using the same design space of LDM (Latent Diffusion Model)]. DiT has the following setup:\\n\\nTake the latent representation of an input $\\\\mathbf{z}$ as input to DiT.\\n“Patchify” the noise latent of size $I \\\\times I \\\\times C$ into patches of size $p$ and convert it into a sequence of patches of size $(I/p)^2$.\\nThen this sequence of tokens go through Transformer blocks. They are exploring three different designs for how to do generation conditioned on contextual information like timestep $t$ or class label $c$. Among three designs, adaLN (Adaptive layer norm)-Zero works out the best, better than in-context conditioning and cross-attention block. The scale and shift parameters, $\\\\gamma$ and $\\\\beta$, are regressed from the sum of the embedding vectors of $t$ and $c$. The dimension-wise scaling parameters $\\\\alpha$ is also regressed and applied immediately prior to any residual connections within the DiT block.\\nThe transformer decoder outputs noise predictions and an output diagonal covariance prediction.\\n\\n\\nFig. 19. The Diffusion Transformer (DiT) architecture.(Image source: Peebles & Xie, 2023)\\nTransformer architecture can be easily scaled up and it is well known for that. This is one of the biggest benefits of DiT as its performance scales up with more compute and larger DiT models are more compute efficient according to the experiments.\\nQuick Summary#\\n\\n\\nPros: Tractability and flexibility are two conflicting objectives in generative modeling. Tractable models can be analytically evaluated and cheaply fit data (e.g. via a Gaussian or Laplace), but they cannot easily describe the structure in rich datasets. Flexible models can fit arbitrary structures in data, but evaluating, training, or sampling from these models is usually expensive. Diffusion models are both analytically tractable and flexible\\n\\n\\nCons: Diffusion models rely on a long Markov chain of diffusion steps to generate samples, so it can be quite expensive in terms of time and compute. New methods have been proposed to make the process much faster, but the sampling is still slower than GAN.\\n\\n\\nCitation#\\nCited as:\\n\\nWeng, Lilian. (Jul 2021). What are diffusion models? Lil’Log. https://lilianweng.github.io/posts/2021-07-11-diffusion-models/.\\n\\nOr\\n@article{weng2021diffusion,\\n  title   = \"What are diffusion models?\",\\n  author  = \"Weng, Lilian\",\\n  journal = \"lilianweng.github.io\",\\n  year    = \"2021\",\\n  month   = \"Jul\",\\n  url     = \"https://lilianweng.github.io/posts/2021-07-11-diffusion-models/\"\\n}\\nReferences#\\n[1] Jascha Sohl-Dickstein et al. “Deep Unsupervised Learning using Nonequilibrium Thermodynamics.” ICML 2015.\\n[2] Max Welling & Yee Whye Teh. “Bayesian learning via stochastic gradient langevin dynamics.” ICML 2011.\\n[3] Yang Song & Stefano Ermon. “Generative modeling by estimating gradients of the data distribution.” NeurIPS 2019.\\n[4] Yang Song & Stefano Ermon. “Improved techniques for training score-based generative models.”  NeuriPS 2020.\\n[5] Jonathan Ho et al. “Denoising diffusion probabilistic models.” arxiv Preprint arxiv:2006.11239 (2020). [code]\\n[6] Jiaming Song et al. “Denoising diffusion implicit models.” arxiv Preprint arxiv:2010.02502 (2020). [code]\\n[7] Alex Nichol & Prafulla Dhariwal. “Improved denoising diffusion probabilistic models” arxiv Preprint arxiv:2102.09672 (2021). [code]\\n[8] Prafula Dhariwal & Alex Nichol. “Diffusion Models Beat GANs on Image Synthesis.” arxiv Preprint arxiv:2105.05233 (2021). [code]\\n[9] Jonathan Ho & Tim Salimans. “Classifier-Free Diffusion Guidance.” NeurIPS 2021 Workshop on Deep Generative Models and Downstream Applications.\\n[10] Yang Song, et al. “Score-Based Generative Modeling through Stochastic Differential Equations.” ICLR 2021.\\n[11] Alex Nichol, Prafulla Dhariwal & Aditya Ramesh, et al. “GLIDE: Towards Photorealistic Image Generation and Editing with Text-Guided Diffusion Models.” ICML 2022.\\n[12] Jonathan Ho, et al. “Cascaded diffusion models for high fidelity image generation.” J. Mach. Learn. Res. 23 (2022): 47-1.\\n[13] Aditya Ramesh et al. “Hierarchical Text-Conditional Image Generation with CLIP Latents.” arxiv Preprint arxiv:2204.06125 (2022).\\n[14] Chitwan Saharia & William Chan, et al. “Photorealistic Text-to-Image Diffusion Models with Deep Language Understanding.” arxiv Preprint arxiv:2205.11487 (2022).\\n[15] Rombach & Blattmann, et al. “High-Resolution Image Synthesis with Latent Diffusion Models.” CVPR 2022.code\\n[16] Song et al. “Consistency Models” arxiv Preprint arxiv:2303.01469 (2023)\\n[17] Salimans & Ho. “Progressive Distillation for Fast Sampling of Diffusion Models” ICLR 2022.\\n[18] Ronneberger, et al. “U-Net: Convolutional Networks for Biomedical Image Segmentation” MICCAI 2015.\\n[19] Peebles & Xie. “Scalable diffusion models with transformers.” ICCV 2023.\\n[20] Zhang et al. “Adding Conditional Control to Text-to-Image Diffusion Models.” arxiv Preprint arxiv:2302.05543 (2023).\\n')]"
      ]
     },
     "execution_count": 13,
     "metadata": {},
     "output_type": "execute_result"
    }
   ],
   "source": [
    "docs"
   ]
  },
  {
   "cell_type": "code",
   "execution_count": 14,
   "metadata": {},
   "outputs": [
    {
     "data": {
      "text/plain": [
       "VectorStoreRetriever(tags=['Chroma', 'HuggingFaceEmbeddings'], vectorstore=<langchain_chroma.vectorstores.Chroma object at 0x00000247CECA75E0>, search_kwargs={})"
      ]
     },
     "execution_count": 14,
     "metadata": {},
     "output_type": "execute_result"
    }
   ],
   "source": [
    "text_splitter = RecursiveCharacterTextSplitter(chunk_size = 1000 , chunk_overlap = 200)\n",
    "splits = text_splitter.split_documents(docs)\n",
    "vectorstore = Chroma.from_documents(documents = splits , embedding=embeddings)\n",
    "retriever = vectorstore.as_retriever()\n",
    "retriever\n"
   ]
  },
  {
   "cell_type": "code",
   "execution_count": 16,
   "metadata": {},
   "outputs": [],
   "source": [
    "## Prompt Template \n",
    "\n",
    "system_prompt = (\n",
    "    \"You are an assistant for questions answering tasks.\"\n",
    "    \"Use the following pieces of retrieved context to answer\" \n",
    "    \"the uestion.If you don't know the answer , say that you\"\n",
    "    \"don't know. Use three sentences maximum and keep the\"\n",
    "    \"answer concise\"\n",
    "    \"\\n \\n\"\n",
    "    \"{context}\"\n",
    ")"
   ]
  },
  {
   "cell_type": "code",
   "execution_count": 18,
   "metadata": {},
   "outputs": [],
   "source": [
    "prompt = ChatPromptTemplate.from_messages(\n",
    "    [\n",
    "        (\"system\" , system_prompt),\n",
    "        (\"human\" , \"{input}\"),\n",
    "    ]\n",
    ")"
   ]
  },
  {
   "cell_type": "code",
   "execution_count": 22,
   "metadata": {},
   "outputs": [],
   "source": [
    "question_answer_chain = create_stuff_documents_chain(llm,prompt)\n",
    "rag_chain = create_retrieval_chain(retriever, question_answer_chain)\n",
    "response = rag_chain.invoke({\"input\": \"What is forward diffusion process\"})"
   ]
  },
  {
   "cell_type": "code",
   "execution_count": 23,
   "metadata": {},
   "outputs": [
    {
     "data": {
      "text/plain": [
       "'According to the context, the forward diffusion process is a process where a data point sampled from a real data distribution is repeatedly perturbed by adding small amounts of Gaussian noise, resulting in a sequence of noisy samples.'"
      ]
     },
     "execution_count": 23,
     "metadata": {},
     "output_type": "execute_result"
    }
   ],
   "source": [
    "response['answer']"
   ]
  },
  {
   "cell_type": "markdown",
   "metadata": {},
   "source": [
    "# Adding Chat History "
   ]
  },
  {
   "cell_type": "code",
   "execution_count": 24,
   "metadata": {},
   "outputs": [],
   "source": [
    "from langchain.chains import create_history_aware_retriever\n",
    "from langchain_core.prompts import MessagesPlaceholder\n",
    "\n",
    "Contextualize_q_system_prompt = (\n",
    "    \"Given a chat history and the latest user question\" \n",
    "    \"which might reference context in the chat history,\" \n",
    "    \"formulate a standalone question which can be understood\" \n",
    "    \"without the chat history . Do NOT Answer the question,\" \n",
    "    \"just reformulate it if needed and otherwise return it as it is\"\n",
    ")"
   ]
  },
  {
   "cell_type": "code",
   "execution_count": 25,
   "metadata": {},
   "outputs": [],
   "source": [
    "contextualize_q_prompt = ChatPromptTemplate.from_messages(\n",
    "    [\n",
    "        (\"system\" , Contextualize_q_system_prompt),\n",
    "         MessagesPlaceholder(\"chat_history\"),\n",
    "        (\"human\" , \"{input}\"),\n",
    "    ]\n",
    ")"
   ]
  },
  {
   "cell_type": "code",
   "execution_count": 27,
   "metadata": {},
   "outputs": [
    {
     "data": {
      "text/plain": [
       "RunnableBinding(bound=RunnableBranch(branches=[(RunnableLambda(lambda x: not x.get('chat_history', False)), RunnableLambda(lambda x: x['input'])\n",
       "| VectorStoreRetriever(tags=['Chroma', 'HuggingFaceEmbeddings'], vectorstore=<langchain_chroma.vectorstores.Chroma object at 0x00000247CECA75E0>, search_kwargs={}))], default=ChatPromptTemplate(input_variables=['chat_history', 'input'], input_types={'chat_history': list[typing.Annotated[typing.Union[typing.Annotated[langchain_core.messages.ai.AIMessage, Tag(tag='ai')], typing.Annotated[langchain_core.messages.human.HumanMessage, Tag(tag='human')], typing.Annotated[langchain_core.messages.chat.ChatMessage, Tag(tag='chat')], typing.Annotated[langchain_core.messages.system.SystemMessage, Tag(tag='system')], typing.Annotated[langchain_core.messages.function.FunctionMessage, Tag(tag='function')], typing.Annotated[langchain_core.messages.tool.ToolMessage, Tag(tag='tool')], typing.Annotated[langchain_core.messages.ai.AIMessageChunk, Tag(tag='AIMessageChunk')], typing.Annotated[langchain_core.messages.human.HumanMessageChunk, Tag(tag='HumanMessageChunk')], typing.Annotated[langchain_core.messages.chat.ChatMessageChunk, Tag(tag='ChatMessageChunk')], typing.Annotated[langchain_core.messages.system.SystemMessageChunk, Tag(tag='SystemMessageChunk')], typing.Annotated[langchain_core.messages.function.FunctionMessageChunk, Tag(tag='FunctionMessageChunk')], typing.Annotated[langchain_core.messages.tool.ToolMessageChunk, Tag(tag='ToolMessageChunk')]], FieldInfo(annotation=NoneType, required=True, discriminator=Discriminator(discriminator=<function _get_type at 0x00000247DC9BB400>, custom_error_type=None, custom_error_message=None, custom_error_context=None))]]}, partial_variables={}, messages=[SystemMessagePromptTemplate(prompt=PromptTemplate(input_variables=[], input_types={}, partial_variables={}, template='Given a chat history and the latest user questionwhich might reference context in the chat history,formulate a standalone question which can be understoodwithout the chat history . Do NOT Answer the question,just reformulate it if needed and otherwise return it as it is'), additional_kwargs={}), MessagesPlaceholder(variable_name='chat_history'), HumanMessagePromptTemplate(prompt=PromptTemplate(input_variables=['input'], input_types={}, partial_variables={}, template='{input}'), additional_kwargs={})])\n",
       "| ChatGroq(client=<groq.resources.chat.completions.Completions object at 0x00000247E0D62DA0>, async_client=<groq.resources.chat.completions.AsyncCompletions object at 0x00000247E0D62110>, model_name='Llama3-8b-8192', model_kwargs={}, groq_api_key=SecretStr('**********'))\n",
       "| StrOutputParser()\n",
       "| VectorStoreRetriever(tags=['Chroma', 'HuggingFaceEmbeddings'], vectorstore=<langchain_chroma.vectorstores.Chroma object at 0x00000247CECA75E0>, search_kwargs={})), kwargs={}, config={'run_name': 'chat_retriever_chain'}, config_factories=[])"
      ]
     },
     "execution_count": 27,
     "metadata": {},
     "output_type": "execute_result"
    }
   ],
   "source": [
    "history_aware_retriever = create_history_aware_retriever(llm , retriever , contextualize_q_prompt)\n",
    "history_aware_retriever"
   ]
  },
  {
   "cell_type": "code",
   "execution_count": 29,
   "metadata": {},
   "outputs": [],
   "source": [
    "qa_prompt = ChatPromptTemplate.from_messages(\n",
    "    [\n",
    "        ('system' , system_prompt),\n",
    "        MessagesPlaceholder(\"chat_history\"),\n",
    "        ('human' , \"{input}\"),\n",
    "    ]\n",
    ")"
   ]
  },
  {
   "cell_type": "code",
   "execution_count": 30,
   "metadata": {},
   "outputs": [],
   "source": [
    "question_answer_chain = create_stuff_documents_chain(llm, qa_prompt)\n",
    "rag_chain = create_retrieval_chain(history_aware_retriever, question_answer_chain)\n",
    "\n"
   ]
  },
  {
   "cell_type": "code",
   "execution_count": 35,
   "metadata": {},
   "outputs": [],
   "source": [
    "from langchain_core.messages import AIMessage,HumanMessage\n",
    "chat_history = []\n",
    "question = \"What the diffusion process \"\n",
    "response1 = rag_chain.invoke({\"input\": question, \"chat_history\":chat_history} )\n",
    "\n",
    "chat_history.extend(\n",
    "    [\n",
    "        HumanMessage(content= question),\n",
    "        AIMessage(content=response1['answer']),\n",
    "    ]\n",
    ")"
   ]
  },
  {
   "cell_type": "code",
   "execution_count": 36,
   "metadata": {},
   "outputs": [
    {
     "name": "stdout",
     "output_type": "stream",
     "text": [
      "I don't know. The context doesn't provide more information about the diffusion process.\n"
     ]
    }
   ],
   "source": [
    "question2 = \"Tell me more about it\"\n",
    "\n",
    "response2 = rag_chain.invoke({\"input\":question2 , \"chat_history\" : chat_history})\n",
    "print(response2['answer'])"
   ]
  },
  {
   "cell_type": "code",
   "execution_count": 38,
   "metadata": {},
   "outputs": [],
   "source": [
    "from langchain_community.chat_message_histories import ChatMessageHistory\n",
    "from langchain_core.chat_history import BaseChatMessageHistory\n",
    "from langchain_core.runnables.history import RunnableWithMessageHistory\n",
    "\n",
    "store = {}\n",
    "\n",
    "def get_session_history(session_id : str) -> BaseChatMessageHistory :\n",
    "    if session_id not in store:\n",
    "        store[session_id] = ChatMessageHistory()\n",
    "    return store[session_id]\n",
    "\n",
    "\n",
    "conversational_rag_chain = RunnableWithMessageHistory(\n",
    "    rag_chain,\n",
    "    get_session_history,\n",
    "    input_messages_key=\"input\",\n",
    "    history_messages_key=\"chat_history\",\n",
    "    output_messages_key=\"answer\",\n",
    "    \n",
    "   \n",
    ")"
   ]
  },
  {
   "cell_type": "code",
   "execution_count": 39,
   "metadata": {},
   "outputs": [
    {
     "data": {
      "text/plain": [
       "\"I don't know. The provided context does not mention Task Decomposition.\""
      ]
     },
     "execution_count": 39,
     "metadata": {},
     "output_type": "execute_result"
    }
   ],
   "source": [
    "conversational_rag_chain.invoke(\n",
    "    {\"input\": \"What is Task Decomposition?\"},\n",
    "    config = {\n",
    "        \"configurable\": {\"session_id\" : \"abc123\"}\n",
    "    },\n",
    ")[\"answer\"]"
   ]
  },
  {
   "cell_type": "code",
   "execution_count": null,
   "metadata": {},
   "outputs": [],
   "source": []
  }
 ],
 "metadata": {
  "kernelspec": {
   "display_name": "venv",
   "language": "python",
   "name": "python3"
  },
  "language_info": {
   "codemirror_mode": {
    "name": "ipython",
    "version": 3
   },
   "file_extension": ".py",
   "mimetype": "text/x-python",
   "name": "python",
   "nbconvert_exporter": "python",
   "pygments_lexer": "ipython3",
   "version": "3.10.15"
  }
 },
 "nbformat": 4,
 "nbformat_minor": 2
}
